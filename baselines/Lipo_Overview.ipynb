{
  "nbformat": 4,
  "nbformat_minor": 0,
  "metadata": {
    "kernelspec": {
      "display_name": "Python 3",
      "language": "python",
      "name": "python3"
    },
    "language_info": {
      "codemirror_mode": {
        "name": "ipython",
        "version": 3
      },
      "file_extension": ".py",
      "mimetype": "text/x-python",
      "name": "python",
      "nbconvert_exporter": "python",
      "pygments_lexer": "ipython3",
      "version": "3.6.10"
    },
    "colab": {
      "name": "Lipo_Overview.ipynb",
      "provenance": [],
      "include_colab_link": true
    }
  },
  "cells": [
    {
      "cell_type": "markdown",
      "metadata": {
        "id": "view-in-github",
        "colab_type": "text"
      },
      "source": [
        "<a href=\"https://colab.research.google.com/github/nihal-rao/deepchem/blob/master/baselines/Lipo_Overview.ipynb\" target=\"_parent\"><img src=\"https://colab.research.google.com/assets/colab-badge.svg\" alt=\"Open In Colab\"/></a>"
      ]
    },
    {
      "cell_type": "markdown",
      "metadata": {
        "id": "mW-q4kpKnwm6"
      },
      "source": [
        "##Installing DeepChem"
      ]
    },
    {
      "cell_type": "markdown",
      "metadata": {
        "id": "PBszUU20xpfX"
      },
      "source": [
        "DeepChem is a python-based open source deep learning framework and offers feature rich set toolchain that democratizes the use of deep-learning in drug discovery, materials science, quantum chemistry, and biology."
      ]
    },
    {
      "cell_type": "code",
      "metadata": {
        "id": "glV7StXjjzt8",
        "colab": {
          "base_uri": "https://localhost:8080/"
        },
        "outputId": "2eb9d698-13b3-45aa-cea3-0609e6677490"
      },
      "source": [
        "!curl -Lo conda_installer.py https://raw.githubusercontent.com/deepchem/deepchem/master/scripts/colab_install.py\n",
        "import conda_installer\n",
        "conda_installer.install()\n",
        "!/root/miniconda/bin/conda info -e"
      ],
      "execution_count": 1,
      "outputs": [
        {
          "output_type": "stream",
          "text": [
            "  % Total    % Received % Xferd  Average Speed   Time    Time     Time  Current\n",
            "                                 Dload  Upload   Total   Spent    Left  Speed\n",
            "100  3501  100  3501    0     0  21090      0 --:--:-- --:--:-- --:--:-- 20964\n"
          ],
          "name": "stdout"
        },
        {
          "output_type": "stream",
          "text": [
            "add /root/miniconda/lib/python3.7/site-packages to PYTHONPATH\n",
            "python version: 3.7.10\n",
            "fetching installer from https://repo.continuum.io/miniconda/Miniconda3-latest-Linux-x86_64.sh\n",
            "done\n",
            "installing miniconda to /root/miniconda\n",
            "done\n",
            "installing rdkit, openmm, pdbfixer\n",
            "added conda-forge to channels\n",
            "added omnia to channels\n",
            "done\n",
            "conda packages installation finished!\n"
          ],
          "name": "stderr"
        },
        {
          "output_type": "stream",
          "text": [
            "# conda environments:\n",
            "#\n",
            "base                  *  /root/miniconda\n",
            "\n"
          ],
          "name": "stdout"
        }
      ]
    },
    {
      "cell_type": "code",
      "metadata": {
        "id": "Vo9dHE2sjzuG",
        "colab": {
          "base_uri": "https://localhost:8080/"
        },
        "outputId": "0f4de34f-4be2-4f61-9fd4-76c88fc99a79"
      },
      "source": [
        "!pip install --pre deepchem"
      ],
      "execution_count": 2,
      "outputs": [
        {
          "output_type": "stream",
          "text": [
            "Collecting deepchem\n",
            "\u001b[?25l  Downloading https://files.pythonhosted.org/packages/04/7f/3f678587e621d1b904ed6d1af65e353b1d681d6b9f4ffaf243c79745c654/deepchem-2.6.0.dev20210403043508-py3-none-any.whl (552kB)\n",
            "\r\u001b[K     |▋                               | 10kB 15.4MB/s eta 0:00:01\r\u001b[K     |█▏                              | 20kB 19.8MB/s eta 0:00:01\r\u001b[K     |█▉                              | 30kB 11.0MB/s eta 0:00:01\r\u001b[K     |██▍                             | 40kB 9.3MB/s eta 0:00:01\r\u001b[K     |███                             | 51kB 7.9MB/s eta 0:00:01\r\u001b[K     |███▋                            | 61kB 8.2MB/s eta 0:00:01\r\u001b[K     |████▏                           | 71kB 8.3MB/s eta 0:00:01\r\u001b[K     |████▊                           | 81kB 8.0MB/s eta 0:00:01\r\u001b[K     |█████▍                          | 92kB 7.8MB/s eta 0:00:01\r\u001b[K     |██████                          | 102kB 7.5MB/s eta 0:00:01\r\u001b[K     |██████▌                         | 112kB 7.5MB/s eta 0:00:01\r\u001b[K     |███████▏                        | 122kB 7.5MB/s eta 0:00:01\r\u001b[K     |███████▊                        | 133kB 7.5MB/s eta 0:00:01\r\u001b[K     |████████▎                       | 143kB 7.5MB/s eta 0:00:01\r\u001b[K     |█████████                       | 153kB 7.5MB/s eta 0:00:01\r\u001b[K     |█████████▌                      | 163kB 7.5MB/s eta 0:00:01\r\u001b[K     |██████████                      | 174kB 7.5MB/s eta 0:00:01\r\u001b[K     |██████████▊                     | 184kB 7.5MB/s eta 0:00:01\r\u001b[K     |███████████▎                    | 194kB 7.5MB/s eta 0:00:01\r\u001b[K     |███████████▉                    | 204kB 7.5MB/s eta 0:00:01\r\u001b[K     |████████████▌                   | 215kB 7.5MB/s eta 0:00:01\r\u001b[K     |█████████████                   | 225kB 7.5MB/s eta 0:00:01\r\u001b[K     |█████████████▋                  | 235kB 7.5MB/s eta 0:00:01\r\u001b[K     |██████████████▎                 | 245kB 7.5MB/s eta 0:00:01\r\u001b[K     |██████████████▉                 | 256kB 7.5MB/s eta 0:00:01\r\u001b[K     |███████████████▍                | 266kB 7.5MB/s eta 0:00:01\r\u001b[K     |████████████████                | 276kB 7.5MB/s eta 0:00:01\r\u001b[K     |████████████████▋               | 286kB 7.5MB/s eta 0:00:01\r\u001b[K     |█████████████████▏              | 296kB 7.5MB/s eta 0:00:01\r\u001b[K     |█████████████████▉              | 307kB 7.5MB/s eta 0:00:01\r\u001b[K     |██████████████████▍             | 317kB 7.5MB/s eta 0:00:01\r\u001b[K     |███████████████████             | 327kB 7.5MB/s eta 0:00:01\r\u001b[K     |███████████████████▋            | 337kB 7.5MB/s eta 0:00:01\r\u001b[K     |████████████████████▏           | 348kB 7.5MB/s eta 0:00:01\r\u001b[K     |████████████████████▊           | 358kB 7.5MB/s eta 0:00:01\r\u001b[K     |█████████████████████▍          | 368kB 7.5MB/s eta 0:00:01\r\u001b[K     |██████████████████████          | 378kB 7.5MB/s eta 0:00:01\r\u001b[K     |██████████████████████▌         | 389kB 7.5MB/s eta 0:00:01\r\u001b[K     |███████████████████████▏        | 399kB 7.5MB/s eta 0:00:01\r\u001b[K     |███████████████████████▊        | 409kB 7.5MB/s eta 0:00:01\r\u001b[K     |████████████████████████▎       | 419kB 7.5MB/s eta 0:00:01\r\u001b[K     |█████████████████████████       | 430kB 7.5MB/s eta 0:00:01\r\u001b[K     |█████████████████████████▌      | 440kB 7.5MB/s eta 0:00:01\r\u001b[K     |██████████████████████████      | 450kB 7.5MB/s eta 0:00:01\r\u001b[K     |██████████████████████████▊     | 460kB 7.5MB/s eta 0:00:01\r\u001b[K     |███████████████████████████▎    | 471kB 7.5MB/s eta 0:00:01\r\u001b[K     |███████████████████████████▉    | 481kB 7.5MB/s eta 0:00:01\r\u001b[K     |████████████████████████████▌   | 491kB 7.5MB/s eta 0:00:01\r\u001b[K     |█████████████████████████████   | 501kB 7.5MB/s eta 0:00:01\r\u001b[K     |█████████████████████████████▋  | 512kB 7.5MB/s eta 0:00:01\r\u001b[K     |██████████████████████████████▎ | 522kB 7.5MB/s eta 0:00:01\r\u001b[K     |██████████████████████████████▉ | 532kB 7.5MB/s eta 0:00:01\r\u001b[K     |███████████████████████████████▍| 542kB 7.5MB/s eta 0:00:01\r\u001b[K     |████████████████████████████████| 552kB 7.5MB/s \n",
            "\u001b[?25hRequirement already satisfied: scikit-learn in /usr/local/lib/python3.7/dist-packages (from deepchem) (0.22.2.post1)\n",
            "Requirement already satisfied: numpy in /usr/local/lib/python3.7/dist-packages (from deepchem) (1.19.5)\n",
            "Requirement already satisfied: joblib in /usr/local/lib/python3.7/dist-packages (from deepchem) (1.0.1)\n",
            "Requirement already satisfied: scipy in /usr/local/lib/python3.7/dist-packages (from deepchem) (1.4.1)\n",
            "Requirement already satisfied: pandas in /usr/local/lib/python3.7/dist-packages (from deepchem) (1.1.5)\n",
            "Requirement already satisfied: python-dateutil>=2.7.3 in /usr/local/lib/python3.7/dist-packages (from pandas->deepchem) (2.8.1)\n",
            "Requirement already satisfied: pytz>=2017.2 in /usr/local/lib/python3.7/dist-packages (from pandas->deepchem) (2018.9)\n",
            "Requirement already satisfied: six>=1.5 in /usr/local/lib/python3.7/dist-packages (from python-dateutil>=2.7.3->pandas->deepchem) (1.15.0)\n",
            "Installing collected packages: deepchem\n",
            "Successfully installed deepchem-2.6.0.dev20210403043508\n"
          ],
          "name": "stdout"
        }
      ]
    },
    {
      "cell_type": "markdown",
      "metadata": {
        "id": "d4N2Z66vjzuY"
      },
      "source": [
        "We can now import the `deepchem` package to play with."
      ]
    },
    {
      "cell_type": "code",
      "metadata": {
        "id": "dmQXbIX0jzuZ",
        "colab": {
          "base_uri": "https://localhost:8080/",
          "height": 35
        },
        "outputId": "1df4382f-2a77-4c4e-a795-a407308f63b8"
      },
      "source": [
        "import deepchem as dc\n",
        "dc.__version__"
      ],
      "execution_count": 3,
      "outputs": [
        {
          "output_type": "execute_result",
          "data": {
            "application/vnd.google.colaboratory.intrinsic+json": {
              "type": "string"
            },
            "text/plain": [
              "'2.6.0.dev'"
            ]
          },
          "metadata": {
            "tags": []
          },
          "execution_count": 3
        }
      ]
    },
    {
      "cell_type": "markdown",
      "metadata": {
        "id": "gosLgS7Zjzuh"
      },
      "source": [
        "## Baseline - Fingerprints + NN\n",
        "\n",
        "Implementing and recording the baseline for Tox21 dataset."
      ]
    },
    {
      "cell_type": "code",
      "metadata": {
        "id": "u-pWelLHjzui",
        "colab": {
          "base_uri": "https://localhost:8080/"
        },
        "outputId": "d6aaef86-43d2-4095-d79f-3612754e4b15"
      },
      "source": [
        "tasks, datasets, transformers = dc.molnet.load_lipo(featurizer='ECFP')\n",
        "train_dataset, valid_dataset, test_dataset = datasets\n",
        "print(train_dataset)"
      ],
      "execution_count": 4,
      "outputs": [
        {
          "output_type": "stream",
          "text": [
            "<DiskDataset X.shape: (3360, 1024), y.shape: (3360, 1), w.shape: (3360, 1), task_names: ['exp']>\n"
          ],
          "name": "stdout"
        }
      ]
    },
    {
      "cell_type": "markdown",
      "metadata": {
        "id": "fSmQ-U6Xjzup"
      },
      "source": [
        "ECFP featurizer is used. Extended Connectivity Fingerprints  is a **fingerprinting** method. They are also sometimes called \"circular fingerprints\". The ECFP algorithm begins by classifying atoms based only on their direct properties and bonds. Each unique pattern is a feature.\n",
        "\n",
        "For example, \"carbon atom bonded to two hydrogens and two heavy atoms\" would be a feature, and a particular element of the fingerprint is set to 1 for any molecule that contains that feature. It then iteratively identifies new features by looking at larger circular neighborhoods. \n",
        "\n",
        "One specific feature bonded to two other specific features becomes a higher level feature, and the corresponding element is set for any molecule that contains it. This continues for a fixed number of iterations, most often two."
      ]
    },
    {
      "cell_type": "code",
      "metadata": {
        "id": "-w0OhPYzjzu7",
        "colab": {
          "base_uri": "https://localhost:8080/"
        },
        "outputId": "afc29200-6787-474d-d24f-09fb1caf157a"
      },
      "source": [
        "tasks"
      ],
      "execution_count": 5,
      "outputs": [
        {
          "output_type": "execute_result",
          "data": {
            "text/plain": [
              "['exp']"
            ]
          },
          "metadata": {
            "tags": []
          },
          "execution_count": 5
        }
      ]
    },
    {
      "cell_type": "markdown",
      "metadata": {
        "id": "denSanJbtVcS"
      },
      "source": [
        "Above are the tasks in the Lipo dataset. The set contains one task which measures octanol/water distribution coefficient (logD) of the compound"
      ]
    },
    {
      "cell_type": "code",
      "metadata": {
        "id": "EfOwqhtAjzvA",
        "colab": {
          "base_uri": "https://localhost:8080/"
        },
        "outputId": "75b87092-ca50-44d2-a2d3-90af3f829127"
      },
      "source": [
        "datasets[0]"
      ],
      "execution_count": 6,
      "outputs": [
        {
          "output_type": "execute_result",
          "data": {
            "text/plain": [
              "<DiskDataset X.shape: (3360, 1024), y.shape: (3360, 1), w.shape: (3360, 1), task_names: ['exp']>"
            ]
          },
          "metadata": {
            "tags": []
          },
          "execution_count": 6
        }
      ]
    },
    {
      "cell_type": "markdown",
      "metadata": {
        "id": "OJrGU39bwDXY"
      },
      "source": [
        "There are three dataset objects - train split, val split and test split. Each split consists of X and y.\n",
        "\n",
        "X is the features and y is the output label. For example the train split has X.shape (3360, 1024) and y.shape (3360, 1). This implies that there are 3360 samples in the train split - and each sample is represented by an ECFP vector of size 1024. "
      ]
    },
    {
      "cell_type": "markdown",
      "metadata": {
        "id": "Dg-thg7gwhY4"
      },
      "source": [
        "##Training a Model on Fingerprints"
      ]
    },
    {
      "cell_type": "code",
      "metadata": {
        "id": "_C0c1jW-wb9R"
      },
      "source": [
        "model = dc.models.MultitaskRegressor(n_tasks=1, n_features=1024, layer_sizes=[1000])"
      ],
      "execution_count": 7,
      "outputs": []
    },
    {
      "cell_type": "markdown",
      "metadata": {
        "id": "GjOro0o0xA08"
      },
      "source": [
        "A MultiTaskRegressor model provides lots of options for customizing aspects of the model: the number and widths of layers, the activation functions, regularization methods, etc.\n",
        "\n",
        "It optionally can compose the model from pre-activation residual blocks rather than a simple stack of dense layers. This often leads to easier training, especially when using a large number of layers. The residual blocks can only be used when successive layers have the same width. Wherever the layer width changes, a simple dense layer will be used even if residual=True.\n",
        "\n",
        "The layer size is 1000 and will be performed on 1 task only."
      ]
    },
    {
      "cell_type": "code",
      "metadata": {
        "id": "WUaR0A5HxsQu",
        "colab": {
          "base_uri": "https://localhost:8080/"
        },
        "outputId": "eb801792-dce7-46e7-ab58-a1de7834cd2e"
      },
      "source": [
        "import numpy as np\n",
        "\n",
        "model.fit(train_dataset, nb_epoch=10)\n",
        "metric = dc.metrics.Metric(dc.metrics.pearson_r2_score)\n",
        "print('training set score:', model.evaluate(train_dataset, [metric], transformers))\n",
        "print('test set score:', model.evaluate(test_dataset, [metric], transformers))"
      ],
      "execution_count": 8,
      "outputs": [
        {
          "output_type": "stream",
          "text": [
            "training set score: {'pearson_r2_score': 0.6974517176731267}\n",
            "test set score: {'pearson_r2_score': 0.22355885227147854}\n"
          ],
          "name": "stdout"
        }
      ]
    },
    {
      "cell_type": "markdown",
      "metadata": {
        "id": "xesI98ChyhdV"
      },
      "source": [
        "The training set score is much higher than test set score. This indicates overfitting - and is why metrics on the validation set need to be measured in otder to tune parameters and detect overfitting."
      ]
    },
    {
      "cell_type": "code",
      "metadata": {
        "id": "bX2DsH0fBqmW",
        "outputId": "fe3c7d7b-a3e5-480e-a55a-47d408bfd61d",
        "colab": {
          "base_uri": "https://localhost:8080/"
        }
      },
      "source": [
        "print(test_dataset.ids[0])"
      ],
      "execution_count": 9,
      "outputs": [
        {
          "output_type": "stream",
          "text": [
            "O[C@@H](CNCCCOCCNCCc1cccc(Cl)c1)c2ccc(O)c3NC(=O)Sc23\n"
          ],
          "name": "stdout"
        }
      ]
    },
    {
      "cell_type": "code",
      "metadata": {
        "id": "gLl3nCvTBuKV",
        "outputId": "3d39628f-8bc8-43d4-c293-80060c6af0e8",
        "colab": {
          "base_uri": "https://localhost:8080/"
        }
      },
      "source": [
        "print(test_dataset.y[0])\n",
        "model.predict(test_dataset)[0]"
      ],
      "execution_count": 10,
      "outputs": [
        {
          "output_type": "stream",
          "text": [
            "[-1.81083219]\n"
          ],
          "name": "stdout"
        },
        {
          "output_type": "execute_result",
          "data": {
            "text/plain": [
              "array([[-0.722492]], dtype=float32)"
            ]
          },
          "metadata": {
            "tags": []
          },
          "execution_count": 10
        }
      ]
    },
    {
      "cell_type": "code",
      "metadata": {
        "id": "1e-7E5qFByBS"
      },
      "source": [
        ""
      ],
      "execution_count": null,
      "outputs": []
    }
  ]
}