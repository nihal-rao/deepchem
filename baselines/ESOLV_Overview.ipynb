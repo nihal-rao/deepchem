{
  "nbformat": 4,
  "nbformat_minor": 0,
  "metadata": {
    "kernelspec": {
      "display_name": "Python 3",
      "language": "python",
      "name": "python3"
    },
    "language_info": {
      "codemirror_mode": {
        "name": "ipython",
        "version": 3
      },
      "file_extension": ".py",
      "mimetype": "text/x-python",
      "name": "python",
      "nbconvert_exporter": "python",
      "pygments_lexer": "ipython3",
      "version": "3.6.10"
    },
    "colab": {
      "name": "ESOLV_Overview.ipynb",
      "provenance": [],
      "include_colab_link": true
    }
  },
  "cells": [
    {
      "cell_type": "markdown",
      "metadata": {
        "id": "view-in-github",
        "colab_type": "text"
      },
      "source": [
        "<a href=\"https://colab.research.google.com/github/nihal-rao/deepchem/blob/master/baselines/ESOLV_Overview.ipynb\" target=\"_parent\"><img src=\"https://colab.research.google.com/assets/colab-badge.svg\" alt=\"Open In Colab\"/></a>"
      ]
    },
    {
      "cell_type": "markdown",
      "metadata": {
        "id": "mW-q4kpKnwm6"
      },
      "source": [
        "##Installing DeepChem"
      ]
    },
    {
      "cell_type": "code",
      "metadata": {
        "id": "glV7StXjjzt8",
        "outputId": "924ac514-371e-4d5f-e77a-b5392fdc151e",
        "colab": {
          "base_uri": "https://localhost:8080/"
        }
      },
      "source": [
        "!curl -Lo conda_installer.py https://raw.githubusercontent.com/deepchem/deepchem/master/scripts/colab_install.py\n",
        "import conda_installer\n",
        "conda_installer.install()\n",
        "!/root/miniconda/bin/conda info -e"
      ],
      "execution_count": 1,
      "outputs": [
        {
          "output_type": "stream",
          "text": [
            "  % Total    % Received % Xferd  Average Speed   Time    Time     Time  Current\n",
            "                                 Dload  Upload   Total   Spent    Left  Speed\n",
            "100  3490  100  3490    0     0   8903      0 --:--:-- --:--:-- --:--:--  8903\n"
          ],
          "name": "stdout"
        },
        {
          "output_type": "stream",
          "text": [
            "add /root/miniconda/lib/python3.6/site-packages to PYTHONPATH\n",
            "python version: 3.6.9\n",
            "fetching installer from https://repo.continuum.io/miniconda/Miniconda3-latest-Linux-x86_64.sh\n",
            "done\n",
            "installing miniconda to /root/miniconda\n",
            "done\n",
            "installing rdkit, openmm, pdbfixer\n",
            "added omnia to channels\n",
            "added conda-forge to channels\n",
            "done\n",
            "conda packages installation finished!\n"
          ],
          "name": "stderr"
        },
        {
          "output_type": "stream",
          "text": [
            "# conda environments:\n",
            "#\n",
            "base                  *  /root/miniconda\n",
            "\n"
          ],
          "name": "stdout"
        }
      ]
    },
    {
      "cell_type": "code",
      "metadata": {
        "id": "Vo9dHE2sjzuG",
        "outputId": "972d4be3-9e99-4754-d14c-6c15da038ca5",
        "colab": {
          "base_uri": "https://localhost:8080/"
        }
      },
      "source": [
        "!pip install --pre deepchem"
      ],
      "execution_count": 2,
      "outputs": [
        {
          "output_type": "stream",
          "text": [
            "Collecting deepchem\n",
            "\u001b[?25l  Downloading https://files.pythonhosted.org/packages/5a/7a/456cd8731b855d33b6db7043627a71f88d89bcf2f570110b8f7603558b06/deepchem-2.4.0rc1.dev20201110082157.tar.gz (402kB)\n",
            "\r\u001b[K     |▉                               | 10kB 20.1MB/s eta 0:00:01\r\u001b[K     |█▋                              | 20kB 1.7MB/s eta 0:00:01\r\u001b[K     |██▍                             | 30kB 2.3MB/s eta 0:00:01\r\u001b[K     |███▎                            | 40kB 2.5MB/s eta 0:00:01\r\u001b[K     |████                            | 51kB 2.0MB/s eta 0:00:01\r\u001b[K     |████▉                           | 61kB 2.3MB/s eta 0:00:01\r\u001b[K     |█████▊                          | 71kB 2.5MB/s eta 0:00:01\r\u001b[K     |██████▌                         | 81kB 2.7MB/s eta 0:00:01\r\u001b[K     |███████▎                        | 92kB 2.9MB/s eta 0:00:01\r\u001b[K     |████████▏                       | 102kB 2.8MB/s eta 0:00:01\r\u001b[K     |█████████                       | 112kB 2.8MB/s eta 0:00:01\r\u001b[K     |█████████▊                      | 122kB 2.8MB/s eta 0:00:01\r\u001b[K     |██████████▋                     | 133kB 2.8MB/s eta 0:00:01\r\u001b[K     |███████████▍                    | 143kB 2.8MB/s eta 0:00:01\r\u001b[K     |████████████▏                   | 153kB 2.8MB/s eta 0:00:01\r\u001b[K     |█████████████                   | 163kB 2.8MB/s eta 0:00:01\r\u001b[K     |█████████████▉                  | 174kB 2.8MB/s eta 0:00:01\r\u001b[K     |██████████████▋                 | 184kB 2.8MB/s eta 0:00:01\r\u001b[K     |███████████████▌                | 194kB 2.8MB/s eta 0:00:01\r\u001b[K     |████████████████▎               | 204kB 2.8MB/s eta 0:00:01\r\u001b[K     |█████████████████               | 215kB 2.8MB/s eta 0:00:01\r\u001b[K     |██████████████████              | 225kB 2.8MB/s eta 0:00:01\r\u001b[K     |██████████████████▊             | 235kB 2.8MB/s eta 0:00:01\r\u001b[K     |███████████████████▌            | 245kB 2.8MB/s eta 0:00:01\r\u001b[K     |████████████████████▍           | 256kB 2.8MB/s eta 0:00:01\r\u001b[K     |█████████████████████▏          | 266kB 2.8MB/s eta 0:00:01\r\u001b[K     |██████████████████████          | 276kB 2.8MB/s eta 0:00:01\r\u001b[K     |██████████████████████▉         | 286kB 2.8MB/s eta 0:00:01\r\u001b[K     |███████████████████████▋        | 296kB 2.8MB/s eta 0:00:01\r\u001b[K     |████████████████████████▍       | 307kB 2.8MB/s eta 0:00:01\r\u001b[K     |█████████████████████████▎      | 317kB 2.8MB/s eta 0:00:01\r\u001b[K     |██████████████████████████      | 327kB 2.8MB/s eta 0:00:01\r\u001b[K     |██████████████████████████▉     | 337kB 2.8MB/s eta 0:00:01\r\u001b[K     |███████████████████████████▊    | 348kB 2.8MB/s eta 0:00:01\r\u001b[K     |████████████████████████████▌   | 358kB 2.8MB/s eta 0:00:01\r\u001b[K     |█████████████████████████████▎  | 368kB 2.8MB/s eta 0:00:01\r\u001b[K     |██████████████████████████████▏ | 378kB 2.8MB/s eta 0:00:01\r\u001b[K     |███████████████████████████████ | 389kB 2.8MB/s eta 0:00:01\r\u001b[K     |███████████████████████████████▊| 399kB 2.8MB/s eta 0:00:01\r\u001b[K     |████████████████████████████████| 409kB 2.8MB/s \n",
            "\u001b[?25hRequirement already satisfied: joblib in /usr/local/lib/python3.6/dist-packages (from deepchem) (0.17.0)\n",
            "Requirement already satisfied: numpy in /usr/local/lib/python3.6/dist-packages (from deepchem) (1.18.5)\n",
            "Requirement already satisfied: pandas in /usr/local/lib/python3.6/dist-packages (from deepchem) (1.1.4)\n",
            "Requirement already satisfied: scikit-learn in /usr/local/lib/python3.6/dist-packages (from deepchem) (0.22.2.post1)\n",
            "Requirement already satisfied: scipy in /usr/local/lib/python3.6/dist-packages (from deepchem) (1.4.1)\n",
            "Requirement already satisfied: pytz>=2017.2 in /usr/local/lib/python3.6/dist-packages (from pandas->deepchem) (2018.9)\n",
            "Requirement already satisfied: python-dateutil>=2.7.3 in /usr/local/lib/python3.6/dist-packages (from pandas->deepchem) (2.8.1)\n",
            "Requirement already satisfied: six>=1.5 in /usr/local/lib/python3.6/dist-packages (from python-dateutil>=2.7.3->pandas->deepchem) (1.15.0)\n",
            "Building wheels for collected packages: deepchem\n",
            "  Building wheel for deepchem (setup.py) ... \u001b[?25l\u001b[?25hdone\n",
            "  Created wheel for deepchem: filename=deepchem-2.4.0rc1.dev20201111070647-cp36-none-any.whl size=513170 sha256=468080d336f0829b78c2d482fe8f11cb22131f96b6836b318db54e0046302916\n",
            "  Stored in directory: /root/.cache/pip/wheels/dc/48/f7/fe7a5c16e27692765c9f01bdb939afbeebde95cad7e35bac30\n",
            "Successfully built deepchem\n",
            "Installing collected packages: deepchem\n",
            "Successfully installed deepchem-2.4.0rc1.dev20201111070647\n"
          ],
          "name": "stdout"
        }
      ]
    },
    {
      "cell_type": "markdown",
      "metadata": {
        "id": "d4N2Z66vjzuY"
      },
      "source": [
        "We can now import the `deepchem` package to play with."
      ]
    },
    {
      "cell_type": "code",
      "metadata": {
        "id": "dmQXbIX0jzuZ",
        "outputId": "81f1e442-d23a-4ee9-bfb3-81913d9b1b24",
        "colab": {
          "base_uri": "https://localhost:8080/",
          "height": 35
        }
      },
      "source": [
        "import deepchem as dc\n",
        "dc.__version__"
      ],
      "execution_count": 3,
      "outputs": [
        {
          "output_type": "execute_result",
          "data": {
            "application/vnd.google.colaboratory.intrinsic+json": {
              "type": "string"
            },
            "text/plain": [
              "'2.4.0-rc1.dev'"
            ]
          },
          "metadata": {
            "tags": []
          },
          "execution_count": 3
        }
      ]
    },
    {
      "cell_type": "markdown",
      "metadata": {
        "id": "gosLgS7Zjzuh"
      },
      "source": [
        "## Baseline - Fingerprints + NN\n",
        "\n",
        "Implementing and recording the baseline for Tox21 dataset."
      ]
    },
    {
      "cell_type": "code",
      "metadata": {
        "id": "u-pWelLHjzui",
        "outputId": "154f1958-28f6-42a3-b986-6f9ba96c2015",
        "colab": {
          "base_uri": "https://localhost:8080/"
        }
      },
      "source": [
        "tasks, datasets, transformers = dc.molnet.load_delaney(featurizer='ECFP')\n",
        "train_dataset, valid_dataset, test_dataset = datasets\n",
        "print(train_dataset)"
      ],
      "execution_count": 4,
      "outputs": [
        {
          "output_type": "stream",
          "text": [
            "<DiskDataset X.shape: (902, 1024), y.shape: (902, 1), w.shape: (902, 1), ids: ['CC(C)=CCCC(C)=CC(=O)' 'CCCC=C' 'CCCCCCCCCCCCCC' ...\n",
            " 'Nc2cccc3nc1ccccc1cc23 ' 'C1CCCCCC1' 'OC1CCCCCC1'], task_names: ['measured log solubility in mols per litre']>\n"
          ],
          "name": "stdout"
        }
      ]
    },
    {
      "cell_type": "markdown",
      "metadata": {
        "id": "fSmQ-U6Xjzup"
      },
      "source": [
        "ECFP featurizer is used. Extended Connectivity Fingerprints  is a **fingerprinting** method. They are also sometimes called \"circular fingerprints\". The ECFP algorithm begins by classifying atoms based only on their direct properties and bonds. Each unique pattern is a feature. For example, \"carbon atom bonded to two hydrogens and two heavy atoms\" would be a feature, and a particular element of the fingerprint is set to 1 for any molecule that contains that feature. It then iteratively identifies new features by looking at larger circular neighborhoods. One specific feature bonded to two other specific features becomes a higher level feature, and the corresponding element is set for any molecule that contains it. This continues for a fixed number of iterations, most often two."
      ]
    },
    {
      "cell_type": "code",
      "metadata": {
        "id": "-w0OhPYzjzu7",
        "outputId": "4b7b76f9-403e-4a6a-bda0-fd0f47d094ee",
        "colab": {
          "base_uri": "https://localhost:8080/"
        }
      },
      "source": [
        "tasks"
      ],
      "execution_count": 5,
      "outputs": [
        {
          "output_type": "execute_result",
          "data": {
            "text/plain": [
              "['measured log solubility in mols per litre']"
            ]
          },
          "metadata": {
            "tags": []
          },
          "execution_count": 5
        }
      ]
    },
    {
      "cell_type": "markdown",
      "metadata": {
        "id": "denSanJbtVcS"
      },
      "source": [
        "Above are the tasks in the Tox21 dataset - there are 12 tasks, each corresponding to different biotoxicity targets, such as cell receptors and stress response pathways."
      ]
    },
    {
      "cell_type": "code",
      "metadata": {
        "id": "EfOwqhtAjzvA",
        "outputId": "de3abaae-606d-40bb-f8d5-6fb7975bf642",
        "colab": {
          "base_uri": "https://localhost:8080/"
        }
      },
      "source": [
        "datasets"
      ],
      "execution_count": 6,
      "outputs": [
        {
          "output_type": "execute_result",
          "data": {
            "text/plain": [
              "(<DiskDataset X.shape: (902, 1024), y.shape: (902, 1), w.shape: (902, 1), ids: ['CC(C)=CCCC(C)=CC(=O)' 'CCCC=C' 'CCCCCCCCCCCCCC' ...\n",
              "  'Nc2cccc3nc1ccccc1cc23 ' 'C1CCCCCC1' 'OC1CCCCCC1'], task_names: ['measured log solubility in mols per litre']>,\n",
              " <DiskDataset X.shape: (113, 1024), y.shape: (113, 1), w.shape: (113, 1), ids: ['Nc1ncnc2nc[nH]c12 ' 'Nc1nc(O)nc2nc[nH]c12 '\n",
              "  'Fc1cccc(F)c1C(=O)NC(=O)Nc2cc(Cl)c(F)c(Cl)c2F ' ...\n",
              "  'OC(Cn1cncn1)(Cn2cncn2)c3ccc(F)cc3F '\n",
              "  'FC(F)(F)c1cccc(c1)N2CC(CCl)C(Cl)C2=O' 'CC1(C)CON(Cc2ccccc2Cl)C1=O'], task_names: ['measured log solubility in mols per litre']>,\n",
              " <DiskDataset X.shape: (113, 1024), y.shape: (113, 1), w.shape: (113, 1), ids: ['c1cc2ccc3cccc4ccc(c1)c2c34' 'Cc1cc(=O)[nH]c(=S)[nH]1'\n",
              "  'Oc1ccc(cc1)C2(OC(=O)c3ccccc23)c4ccc(O)cc4 ' ...\n",
              "  'c1ccc2c(c1)ccc3c2ccc4c5ccccc5ccc43' 'Cc1occc1C(=O)Nc2ccccc2'\n",
              "  'OCC3OC(OCC2OC(OC(C#N)c1ccccc1)C(O)C(O)C2O)C(O)C(O)C3O '], task_names: ['measured log solubility in mols per litre']>)"
            ]
          },
          "metadata": {
            "tags": []
          },
          "execution_count": 6
        }
      ]
    },
    {
      "cell_type": "markdown",
      "metadata": {
        "id": "OJrGU39bwDXY"
      },
      "source": [
        "There are three dataset objects - train split, val split and test split. Each split consists of X and y - X is the features and y is the output label. Froe example the train split has X.shape (902, 1024)\n",
        "and y.shape (902, 12). This implies that there are 902 samples in the train split - and each sample is represented by an ECFP vector of size 1024. "
      ]
    },
    {
      "cell_type": "markdown",
      "metadata": {
        "id": "Dg-thg7gwhY4"
      },
      "source": [
        "##Training a Model on Fingerprints"
      ]
    },
    {
      "cell_type": "code",
      "metadata": {
        "id": "_C0c1jW-wb9R"
      },
      "source": [
        "model = dc.models.MultitaskRegressor(n_tasks=1, n_features=1024, layer_sizes=[1000])"
      ],
      "execution_count": 7,
      "outputs": []
    },
    {
      "cell_type": "markdown",
      "metadata": {
        "id": "GjOro0o0xA08"
      },
      "source": [
        "`MultitaskClassifier` is a simple stack of fully connected layers. A single hidden layer of width 1000 is used. Each input will have 1024 features, and it should produce predictions for 12 different tasks.\n",
        "\n",
        "Note that the above network is performing multitask learning - a single network is used for all 12 tasks. This is because inter task correlations exist in the data, and to take if advantage of this single neural network is used for multiple tasks."
      ]
    },
    {
      "cell_type": "code",
      "metadata": {
        "id": "WUaR0A5HxsQu",
        "outputId": "d06e36ab-da89-41a2-ea28-03b23f100be4",
        "colab": {
          "base_uri": "https://localhost:8080/"
        }
      },
      "source": [
        "import numpy as np\n",
        "\n",
        "model.fit(train_dataset, nb_epoch=10)\n",
        "metric = dc.metrics.Metric(dc.metrics.pearson_r2_score)\n",
        "print('training set score:', model.evaluate(train_dataset, [metric], transformers))\n",
        "print('test set score:', model.evaluate(test_dataset, [metric], transformers))"
      ],
      "execution_count": 8,
      "outputs": [
        {
          "output_type": "stream",
          "text": [
            "training set score: {'pearson_r2_score': 0.837675658417231}\n",
            "test set score: {'pearson_r2_score': 0.44084607577906865}\n"
          ],
          "name": "stdout"
        }
      ]
    },
    {
      "cell_type": "markdown",
      "metadata": {
        "id": "xesI98ChyhdV"
      },
      "source": [
        "The training set score is much higher than test set score. This indicates overfitting - and is why metrics on the validation set need to be measured in otder to tune parameters and detect overfitting."
      ]
    }
  ]
}