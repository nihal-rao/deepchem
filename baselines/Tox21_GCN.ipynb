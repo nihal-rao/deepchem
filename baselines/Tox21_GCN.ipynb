{
  "nbformat": 4,
  "nbformat_minor": 0,
  "metadata": {
    "kernelspec": {
      "display_name": "Python 3",
      "language": "python",
      "name": "python3"
    },
    "language_info": {
      "codemirror_mode": {
        "name": "ipython",
        "version": 3
      },
      "file_extension": ".py",
      "mimetype": "text/x-python",
      "name": "python",
      "nbconvert_exporter": "python",
      "pygments_lexer": "ipython3",
      "version": "3.6.10"
    },
    "colab": {
      "name": "Tox21_GCN.ipynb",
      "provenance": [],
      "include_colab_link": true
    }
  },
  "cells": [
    {
      "cell_type": "markdown",
      "metadata": {
        "id": "view-in-github",
        "colab_type": "text"
      },
      "source": [
        "<a href=\"https://colab.research.google.com/github/nihal-rao/deepchem/blob/master/baselines/Tox21_GCN.ipynb\" target=\"_parent\"><img src=\"https://colab.research.google.com/assets/colab-badge.svg\" alt=\"Open In Colab\"/></a>"
      ]
    },
    {
      "cell_type": "markdown",
      "metadata": {
        "id": "mW-q4kpKnwm6"
      },
      "source": [
        "##Installing DeepChem"
      ]
    },
    {
      "cell_type": "markdown",
      "metadata": {
        "id": "Hyo3N42_np0L"
      },
      "source": [
        "DeepChem is a python-based open source deep learning framework and offers feature rich set toolchain that democratizes the use of deep-learning in drug discovery, materials science, quantum chemistry, and biology."
      ]
    },
    {
      "cell_type": "code",
      "metadata": {
        "id": "glV7StXjjzt8",
        "colab": {
          "base_uri": "https://localhost:8080/"
        },
        "outputId": "28786147-3b2d-463f-a203-c47dd7fd3b60"
      },
      "source": [
        "!curl -Lo conda_installer.py https://raw.githubusercontent.com/deepchem/deepchem/master/scripts/colab_install.py\n",
        "import conda_installer\n",
        "conda_installer.install()\n",
        "!/root/miniconda/bin/conda info -e"
      ],
      "execution_count": 1,
      "outputs": [
        {
          "output_type": "stream",
          "text": [
            "  % Total    % Received % Xferd  Average Speed   Time    Time     Time  Current\n",
            "                                 Dload  Upload   Total   Spent    Left  Speed\n",
            "\r  0     0    0     0    0     0      0      0 --:--:-- --:--:-- --:--:--     0\r100  3501  100  3501    0     0  17078      0 --:--:-- --:--:-- --:--:-- 17078\n"
          ],
          "name": "stdout"
        },
        {
          "output_type": "stream",
          "text": [
            "add /root/miniconda/lib/python3.7/site-packages to PYTHONPATH\n",
            "python version: 3.7.10\n",
            "fetching installer from https://repo.continuum.io/miniconda/Miniconda3-latest-Linux-x86_64.sh\n",
            "done\n",
            "installing miniconda to /root/miniconda\n",
            "done\n",
            "installing rdkit, openmm, pdbfixer\n",
            "added conda-forge to channels\n",
            "added omnia to channels\n",
            "done\n",
            "conda packages installation finished!\n"
          ],
          "name": "stderr"
        },
        {
          "output_type": "stream",
          "text": [
            "# conda environments:\n",
            "#\n",
            "base                  *  /root/miniconda\n",
            "\n"
          ],
          "name": "stdout"
        }
      ]
    },
    {
      "cell_type": "code",
      "metadata": {
        "id": "Vo9dHE2sjzuG",
        "colab": {
          "base_uri": "https://localhost:8080/"
        },
        "outputId": "225d1abd-44a8-4453-b4fd-9823a187f8e6"
      },
      "source": [
        "!pip install --pre deepchem\n",
        "!pip install dgl\n",
        "!pip install dgllife"
      ],
      "execution_count": 2,
      "outputs": [
        {
          "output_type": "stream",
          "text": [
            "Collecting deepchem\n",
            "\u001b[?25l  Downloading https://files.pythonhosted.org/packages/04/7f/3f678587e621d1b904ed6d1af65e353b1d681d6b9f4ffaf243c79745c654/deepchem-2.6.0.dev20210403043508-py3-none-any.whl (552kB)\n",
            "\r\u001b[K     |▋                               | 10kB 21.9MB/s eta 0:00:01\r\u001b[K     |█▏                              | 20kB 27.0MB/s eta 0:00:01\r\u001b[K     |█▉                              | 30kB 17.4MB/s eta 0:00:01\r\u001b[K     |██▍                             | 40kB 15.2MB/s eta 0:00:01\r\u001b[K     |███                             | 51kB 9.6MB/s eta 0:00:01\r\u001b[K     |███▋                            | 61kB 7.8MB/s eta 0:00:01\r\u001b[K     |████▏                           | 71kB 8.6MB/s eta 0:00:01\r\u001b[K     |████▊                           | 81kB 9.0MB/s eta 0:00:01\r\u001b[K     |█████▍                          | 92kB 8.8MB/s eta 0:00:01\r\u001b[K     |██████                          | 102kB 8.7MB/s eta 0:00:01\r\u001b[K     |██████▌                         | 112kB 8.7MB/s eta 0:00:01\r\u001b[K     |███████▏                        | 122kB 8.7MB/s eta 0:00:01\r\u001b[K     |███████▊                        | 133kB 8.7MB/s eta 0:00:01\r\u001b[K     |████████▎                       | 143kB 8.7MB/s eta 0:00:01\r\u001b[K     |█████████                       | 153kB 8.7MB/s eta 0:00:01\r\u001b[K     |█████████▌                      | 163kB 8.7MB/s eta 0:00:01\r\u001b[K     |██████████                      | 174kB 8.7MB/s eta 0:00:01\r\u001b[K     |██████████▊                     | 184kB 8.7MB/s eta 0:00:01\r\u001b[K     |███████████▎                    | 194kB 8.7MB/s eta 0:00:01\r\u001b[K     |███████████▉                    | 204kB 8.7MB/s eta 0:00:01\r\u001b[K     |████████████▌                   | 215kB 8.7MB/s eta 0:00:01\r\u001b[K     |█████████████                   | 225kB 8.7MB/s eta 0:00:01\r\u001b[K     |█████████████▋                  | 235kB 8.7MB/s eta 0:00:01\r\u001b[K     |██████████████▎                 | 245kB 8.7MB/s eta 0:00:01\r\u001b[K     |██████████████▉                 | 256kB 8.7MB/s eta 0:00:01\r\u001b[K     |███████████████▍                | 266kB 8.7MB/s eta 0:00:01\r\u001b[K     |████████████████                | 276kB 8.7MB/s eta 0:00:01\r\u001b[K     |████████████████▋               | 286kB 8.7MB/s eta 0:00:01\r\u001b[K     |█████████████████▏              | 296kB 8.7MB/s eta 0:00:01\r\u001b[K     |█████████████████▉              | 307kB 8.7MB/s eta 0:00:01\r\u001b[K     |██████████████████▍             | 317kB 8.7MB/s eta 0:00:01\r\u001b[K     |███████████████████             | 327kB 8.7MB/s eta 0:00:01\r\u001b[K     |███████████████████▋            | 337kB 8.7MB/s eta 0:00:01\r\u001b[K     |████████████████████▏           | 348kB 8.7MB/s eta 0:00:01\r\u001b[K     |████████████████████▊           | 358kB 8.7MB/s eta 0:00:01\r\u001b[K     |█████████████████████▍          | 368kB 8.7MB/s eta 0:00:01\r\u001b[K     |██████████████████████          | 378kB 8.7MB/s eta 0:00:01\r\u001b[K     |██████████████████████▌         | 389kB 8.7MB/s eta 0:00:01\r\u001b[K     |███████████████████████▏        | 399kB 8.7MB/s eta 0:00:01\r\u001b[K     |███████████████████████▊        | 409kB 8.7MB/s eta 0:00:01\r\u001b[K     |████████████████████████▎       | 419kB 8.7MB/s eta 0:00:01\r\u001b[K     |█████████████████████████       | 430kB 8.7MB/s eta 0:00:01\r\u001b[K     |█████████████████████████▌      | 440kB 8.7MB/s eta 0:00:01\r\u001b[K     |██████████████████████████      | 450kB 8.7MB/s eta 0:00:01\r\u001b[K     |██████████████████████████▊     | 460kB 8.7MB/s eta 0:00:01\r\u001b[K     |███████████████████████████▎    | 471kB 8.7MB/s eta 0:00:01\r\u001b[K     |███████████████████████████▉    | 481kB 8.7MB/s eta 0:00:01\r\u001b[K     |████████████████████████████▌   | 491kB 8.7MB/s eta 0:00:01\r\u001b[K     |█████████████████████████████   | 501kB 8.7MB/s eta 0:00:01\r\u001b[K     |█████████████████████████████▋  | 512kB 8.7MB/s eta 0:00:01\r\u001b[K     |██████████████████████████████▎ | 522kB 8.7MB/s eta 0:00:01\r\u001b[K     |██████████████████████████████▉ | 532kB 8.7MB/s eta 0:00:01\r\u001b[K     |███████████████████████████████▍| 542kB 8.7MB/s eta 0:00:01\r\u001b[K     |████████████████████████████████| 552kB 8.7MB/s \n",
            "\u001b[?25hRequirement already satisfied: joblib in /usr/local/lib/python3.7/dist-packages (from deepchem) (1.0.1)\n",
            "Requirement already satisfied: scikit-learn in /usr/local/lib/python3.7/dist-packages (from deepchem) (0.22.2.post1)\n",
            "Requirement already satisfied: numpy in /usr/local/lib/python3.7/dist-packages (from deepchem) (1.19.5)\n",
            "Requirement already satisfied: scipy in /usr/local/lib/python3.7/dist-packages (from deepchem) (1.4.1)\n",
            "Requirement already satisfied: pandas in /usr/local/lib/python3.7/dist-packages (from deepchem) (1.1.5)\n",
            "Requirement already satisfied: pytz>=2017.2 in /usr/local/lib/python3.7/dist-packages (from pandas->deepchem) (2018.9)\n",
            "Requirement already satisfied: python-dateutil>=2.7.3 in /usr/local/lib/python3.7/dist-packages (from pandas->deepchem) (2.8.1)\n",
            "Requirement already satisfied: six>=1.5 in /usr/local/lib/python3.7/dist-packages (from python-dateutil>=2.7.3->pandas->deepchem) (1.15.0)\n",
            "Installing collected packages: deepchem\n",
            "Successfully installed deepchem-2.6.0.dev20210403043508\n",
            "Collecting dgl\n",
            "\u001b[?25l  Downloading https://files.pythonhosted.org/packages/c8/72/61668fa3ef059f889f98653197e6f93592735660298042ffc5adb2005ca5/dgl-0.6.0.post1-cp37-cp37m-manylinux1_x86_64.whl (4.3MB)\n",
            "\u001b[K     |████████████████████████████████| 4.3MB 9.1MB/s \n",
            "\u001b[?25hRequirement already satisfied: networkx>=2.1 in /usr/local/lib/python3.7/dist-packages (from dgl) (2.5)\n",
            "Requirement already satisfied: requests>=2.19.0 in /usr/local/lib/python3.7/dist-packages (from dgl) (2.23.0)\n",
            "Requirement already satisfied: numpy>=1.14.0 in /usr/local/lib/python3.7/dist-packages (from dgl) (1.19.5)\n",
            "Requirement already satisfied: scipy>=1.1.0 in /usr/local/lib/python3.7/dist-packages (from dgl) (1.4.1)\n",
            "Requirement already satisfied: decorator>=4.3.0 in /usr/local/lib/python3.7/dist-packages (from networkx>=2.1->dgl) (4.4.2)\n",
            "Requirement already satisfied: idna<3,>=2.5 in /usr/local/lib/python3.7/dist-packages (from requests>=2.19.0->dgl) (2.10)\n",
            "Requirement already satisfied: certifi>=2017.4.17 in /usr/local/lib/python3.7/dist-packages (from requests>=2.19.0->dgl) (2020.12.5)\n",
            "Requirement already satisfied: chardet<4,>=3.0.2 in /usr/local/lib/python3.7/dist-packages (from requests>=2.19.0->dgl) (3.0.4)\n",
            "Requirement already satisfied: urllib3!=1.25.0,!=1.25.1,<1.26,>=1.21.1 in /usr/local/lib/python3.7/dist-packages (from requests>=2.19.0->dgl) (1.24.3)\n",
            "Installing collected packages: dgl\n",
            "Successfully installed dgl-0.6.0.post1\n",
            "Collecting dgllife\n",
            "\u001b[?25l  Downloading https://files.pythonhosted.org/packages/89/f3/04509470ce7fad6d647c8b41ffff8984b7691260eb78b305997104b09ebc/dgllife-0.2.6.tar.gz (130kB)\n",
            "\u001b[K     |████████████████████████████████| 133kB 9.3MB/s \n",
            "\u001b[?25hRequirement already satisfied: scikit-learn>=0.22.2 in /usr/local/lib/python3.7/dist-packages (from dgllife) (0.22.2.post1)\n",
            "Requirement already satisfied: pandas in /usr/local/lib/python3.7/dist-packages (from dgllife) (1.1.5)\n",
            "Requirement already satisfied: requests>=2.22.0 in /usr/local/lib/python3.7/dist-packages (from dgllife) (2.23.0)\n",
            "Requirement already satisfied: tqdm in /usr/local/lib/python3.7/dist-packages (from dgllife) (4.41.1)\n",
            "Requirement already satisfied: numpy>=1.14.0 in /usr/local/lib/python3.7/dist-packages (from dgllife) (1.19.5)\n",
            "Requirement already satisfied: scipy>=1.1.0 in /usr/local/lib/python3.7/dist-packages (from dgllife) (1.4.1)\n",
            "Requirement already satisfied: networkx>=2.1 in /usr/local/lib/python3.7/dist-packages (from dgllife) (2.5)\n",
            "Requirement already satisfied: hyperopt in /usr/local/lib/python3.7/dist-packages (from dgllife) (0.1.2)\n",
            "Requirement already satisfied: joblib in /usr/local/lib/python3.7/dist-packages (from dgllife) (1.0.1)\n",
            "Requirement already satisfied: python-dateutil>=2.7.3 in /usr/local/lib/python3.7/dist-packages (from pandas->dgllife) (2.8.1)\n",
            "Requirement already satisfied: pytz>=2017.2 in /usr/local/lib/python3.7/dist-packages (from pandas->dgllife) (2018.9)\n",
            "Requirement already satisfied: urllib3!=1.25.0,!=1.25.1,<1.26,>=1.21.1 in /usr/local/lib/python3.7/dist-packages (from requests>=2.22.0->dgllife) (1.24.3)\n",
            "Requirement already satisfied: chardet<4,>=3.0.2 in /usr/local/lib/python3.7/dist-packages (from requests>=2.22.0->dgllife) (3.0.4)\n",
            "Requirement already satisfied: certifi>=2017.4.17 in /usr/local/lib/python3.7/dist-packages (from requests>=2.22.0->dgllife) (2020.12.5)\n",
            "Requirement already satisfied: idna<3,>=2.5 in /usr/local/lib/python3.7/dist-packages (from requests>=2.22.0->dgllife) (2.10)\n",
            "Requirement already satisfied: decorator>=4.3.0 in /usr/local/lib/python3.7/dist-packages (from networkx>=2.1->dgllife) (4.4.2)\n",
            "Requirement already satisfied: future in /usr/local/lib/python3.7/dist-packages (from hyperopt->dgllife) (0.16.0)\n",
            "Requirement already satisfied: pymongo in /usr/local/lib/python3.7/dist-packages (from hyperopt->dgllife) (3.11.3)\n",
            "Requirement already satisfied: six in /usr/local/lib/python3.7/dist-packages (from hyperopt->dgllife) (1.15.0)\n",
            "Building wheels for collected packages: dgllife\n",
            "  Building wheel for dgllife (setup.py) ... \u001b[?25l\u001b[?25hdone\n",
            "  Created wheel for dgllife: filename=dgllife-0.2.6-cp37-none-any.whl size=205837 sha256=af104e501177eadf37d2a08a241bcae1bc055d22f978d27ad3fc8be4b8a76eab\n",
            "  Stored in directory: /root/.cache/pip/wheels/cf/29/39/54bbf37c8999f605d347805d4dec838e9ca8a894c90b119600\n",
            "Successfully built dgllife\n",
            "Installing collected packages: dgllife\n",
            "Successfully installed dgllife-0.2.6\n"
          ],
          "name": "stdout"
        }
      ]
    },
    {
      "cell_type": "markdown",
      "metadata": {
        "id": "d4N2Z66vjzuY"
      },
      "source": [
        "We can now import the `deepchem` package to play with."
      ]
    },
    {
      "cell_type": "code",
      "metadata": {
        "id": "dmQXbIX0jzuZ",
        "colab": {
          "base_uri": "https://localhost:8080/",
          "height": 35
        },
        "outputId": "3b059f07-543a-4d57-913d-db2d55ac6e42"
      },
      "source": [
        "import deepchem as dc\n",
        "dc.__version__"
      ],
      "execution_count": 3,
      "outputs": [
        {
          "output_type": "execute_result",
          "data": {
            "application/vnd.google.colaboratory.intrinsic+json": {
              "type": "string"
            },
            "text/plain": [
              "'2.6.0.dev'"
            ]
          },
          "metadata": {
            "tags": []
          },
          "execution_count": 3
        }
      ]
    },
    {
      "cell_type": "markdown",
      "metadata": {
        "id": "gosLgS7Zjzuh"
      },
      "source": [
        "## Using GraphConv featuriser\n",
        "\n",
        "Implementing and recording the baseline for Tox21 dataset."
      ]
    },
    {
      "cell_type": "code",
      "metadata": {
        "id": "u-pWelLHjzui",
        "colab": {
          "base_uri": "https://localhost:8080/"
        },
        "outputId": "30fae0e2-f431-4700-b033-7d30db767efc"
      },
      "source": [
        "featurizer = dc.feat.MolGraphConvFeaturizer()\n",
        "tasks, datasets, transformers = dc.molnet.load_tox21(featurizer=featurizer)\n",
        "train_dataset, valid_dataset, test_dataset = datasets\n",
        "print(train_dataset)"
      ],
      "execution_count": 4,
      "outputs": [
        {
          "output_type": "stream",
          "text": [
            "Failed to featurize datapoint 95, [I-].[K+]. Appending empty array\n",
            "Exception message: zero-size array to reduction operation maximum which has no identity\n",
            "Failed to featurize datapoint 255, [Hg+2]. Appending empty array\n",
            "Exception message: zero-size array to reduction operation maximum which has no identity\n",
            "Failed to featurize datapoint 659, [Ba+2]. Appending empty array\n",
            "Exception message: zero-size array to reduction operation maximum which has no identity\n",
            "Failed to featurize datapoint 985, [TlH2+]. Appending empty array\n",
            "Exception message: zero-size array to reduction operation maximum which has no identity\n",
            "Failed to featurize datapoint 1423, [Cr+3]. Appending empty array\n",
            "Exception message: zero-size array to reduction operation maximum which has no identity\n",
            "Failed to featurize datapoint 1534, [Fe+2]. Appending empty array\n",
            "Exception message: zero-size array to reduction operation maximum which has no identity\n",
            "Failed to featurize datapoint 1722, [Co+2]. Appending empty array\n",
            "Exception message: zero-size array to reduction operation maximum which has no identity\n",
            "Failed to featurize datapoint 1933, [PbH2+2]. Appending empty array\n",
            "Exception message: zero-size array to reduction operation maximum which has no identity\n",
            "Failed to featurize datapoint 2147, [Fe+3]. Appending empty array\n",
            "Exception message: zero-size array to reduction operation maximum which has no identity\n",
            "Failed to featurize datapoint 2251, [Cu+2]. Appending empty array\n",
            "Exception message: zero-size array to reduction operation maximum which has no identity\n",
            "Failed to featurize datapoint 2760, [Cd+2]. Appending empty array\n",
            "Exception message: zero-size array to reduction operation maximum which has no identity\n",
            "Failed to featurize datapoint 2832, [SnH2+2]. Appending empty array\n",
            "Exception message: zero-size array to reduction operation maximum which has no identity\n",
            "Failed to featurize datapoint 4024, [Mn+2]. Appending empty array\n",
            "Exception message: zero-size array to reduction operation maximum which has no identity\n",
            "Failed to featurize datapoint 4375, [Be+2]. Appending empty array\n",
            "Exception message: zero-size array to reduction operation maximum which has no identity\n",
            "Failed to featurize datapoint 4611, [Zn+2]. Appending empty array\n",
            "Exception message: zero-size array to reduction operation maximum which has no identity\n",
            "Failed to featurize datapoint 5942, [Br-].[Na+]. Appending empty array\n",
            "Exception message: zero-size array to reduction operation maximum which has no identity\n",
            "Failed to featurize datapoint 6477, [Ca+2].[Cl-].[Cl-]. Appending empty array\n",
            "Exception message: zero-size array to reduction operation maximum which has no identity\n",
            "Failed to featurize datapoint 6547, [SbH6+3]. Appending empty array\n",
            "Exception message: zero-size array to reduction operation maximum which has no identity\n",
            "Failed to featurize datapoint 6717, [Ni+2]. Appending empty array\n",
            "Exception message: zero-size array to reduction operation maximum which has no identity\n",
            "/usr/local/lib/python3.7/dist-packages/numpy/core/_asarray.py:83: VisibleDeprecationWarning: Creating an ndarray from ragged nested sequences (which is a list-or-tuple of lists-or-tuples-or ndarrays with different lengths or shapes) is deprecated. If you meant to do this, you must specify 'dtype=object' when creating the ndarray\n",
            "  return array(a, dtype, copy=False, order=order)\n"
          ],
          "name": "stderr"
        },
        {
          "output_type": "stream",
          "text": [
            "<DiskDataset X.shape: (6249,), y.shape: (6249, 12), w.shape: (6249, 12), task_names: ['NR-AR' 'NR-AR-LBD' 'NR-AhR' ... 'SR-HSE' 'SR-MMP' 'SR-p53']>\n"
          ],
          "name": "stdout"
        }
      ]
    },
    {
      "cell_type": "markdown",
      "metadata": {
        "id": "fSmQ-U6Xjzup"
      },
      "source": [
        "This MolGraphConv is a featurizer of general graph convolution networks for molecules."
      ]
    },
    {
      "cell_type": "code",
      "metadata": {
        "id": "-w0OhPYzjzu7",
        "colab": {
          "base_uri": "https://localhost:8080/"
        },
        "outputId": "ed0fc7cd-704a-4649-cfb0-328647680454"
      },
      "source": [
        "tasks"
      ],
      "execution_count": 5,
      "outputs": [
        {
          "output_type": "execute_result",
          "data": {
            "text/plain": [
              "['NR-AR',\n",
              " 'NR-AR-LBD',\n",
              " 'NR-AhR',\n",
              " 'NR-Aromatase',\n",
              " 'NR-ER',\n",
              " 'NR-ER-LBD',\n",
              " 'NR-PPAR-gamma',\n",
              " 'SR-ARE',\n",
              " 'SR-ATAD5',\n",
              " 'SR-HSE',\n",
              " 'SR-MMP',\n",
              " 'SR-p53']"
            ]
          },
          "metadata": {
            "tags": []
          },
          "execution_count": 5
        }
      ]
    },
    {
      "cell_type": "markdown",
      "metadata": {
        "id": "denSanJbtVcS"
      },
      "source": [
        "Above are the tasks in the Tox21 dataset - there are 12 tasks, each corresponding to different biotoxicity targets, such as cell receptors and stress response pathways."
      ]
    },
    {
      "cell_type": "code",
      "metadata": {
        "id": "EfOwqhtAjzvA",
        "colab": {
          "base_uri": "https://localhost:8080/"
        },
        "outputId": "a0a8d0fa-2684-4037-bdf3-f1dea023c741"
      },
      "source": [
        "print(datasets[0])"
      ],
      "execution_count": 6,
      "outputs": [
        {
          "output_type": "stream",
          "text": [
            "<DiskDataset X.shape: (6249,), y.shape: (6249, 12), w.shape: (6249, 12), task_names: ['NR-AR' 'NR-AR-LBD' 'NR-AhR' ... 'SR-HSE' 'SR-MMP' 'SR-p53']>\n"
          ],
          "name": "stdout"
        }
      ]
    },
    {
      "cell_type": "markdown",
      "metadata": {
        "id": "OJrGU39bwDXY"
      },
      "source": [
        "There are three dataset objects - train split, val split and test split. Each split consists of X and y - X is the features and y is the output label. \n",
        "\n",
        "For example the train split has X.shape (6249, ) and y.shape (6249, 12). This implies that there are 6249 samples in the train split. "
      ]
    },
    {
      "cell_type": "markdown",
      "metadata": {
        "id": "Dg-thg7gwhY4"
      },
      "source": [
        "##Training the GCNNN"
      ]
    },
    {
      "cell_type": "code",
      "metadata": {
        "id": "_C0c1jW-wb9R",
        "colab": {
          "base_uri": "https://localhost:8080/"
        },
        "outputId": "9af983f3-b873-44f1-f486-7f484eb823e0"
      },
      "source": [
        "from deepchem.models import GCNModel\n",
        "model = GCNModel(mode='classification', n_tasks=len(tasks))\n",
        "model.fit(train_dataset, nb_epoch=50)"
      ],
      "execution_count": 7,
      "outputs": [
        {
          "output_type": "stream",
          "text": [
            "DGL backend not selected or invalid.  Assuming PyTorch for now.\n",
            "Using backend: pytorch\n"
          ],
          "name": "stderr"
        },
        {
          "output_type": "stream",
          "text": [
            "Setting the default backend to \"pytorch\". You can change it in the ~/.dgl/config.json file or export the DGLBACKEND environment variable.  Valid options are: pytorch, mxnet, tensorflow (all lowercase)\n"
          ],
          "name": "stdout"
        },
        {
          "output_type": "execute_result",
          "data": {
            "text/plain": [
              "0.4685784149169922"
            ]
          },
          "metadata": {
            "tags": []
          },
          "execution_count": 7
        }
      ]
    },
    {
      "cell_type": "markdown",
      "metadata": {
        "id": "GjOro0o0xA08"
      },
      "source": [
        "The GCN method is a modification of the GraphConv method with some features like:\n",
        "1. A different method of computing graph-level representations.\n",
        "2. The learnable weight in GCN model is shared across all nodes. \n",
        "3. There are also minor differences in using dropout, skip connections and batch normalization\n"
      ]
    },
    {
      "cell_type": "code",
      "metadata": {
        "id": "WUaR0A5HxsQu",
        "colab": {
          "base_uri": "https://localhost:8080/"
        },
        "outputId": "22ceebc5-debd-4db8-d7f6-2052ed0c8101"
      },
      "source": [
        "import numpy as np\n",
        "\n",
        "metric = dc.metrics.Metric(dc.metrics.roc_auc_score)\n",
        "print('training set score:', model.evaluate(train_dataset, [metric], transformers))\n",
        "print('test set score:', model.evaluate(test_dataset, [metric], transformers))"
      ],
      "execution_count": 8,
      "outputs": [
        {
          "output_type": "stream",
          "text": [
            "training set score: {'roc_auc_score': 0.9337739933216821}\n",
            "test set score: {'roc_auc_score': 0.7116885043270934}\n"
          ],
          "name": "stdout"
        }
      ]
    },
    {
      "cell_type": "markdown",
      "metadata": {
        "id": "xesI98ChyhdV"
      },
      "source": [
        "The training set score is much higher than test set score. This indicates overfitting - and is why metrics on the validation set need to be measured in otder to tune parameters and detect overfitting."
      ]
    },
    {
      "cell_type": "code",
      "metadata": {
        "id": "Wae1XiI5uCJN",
        "outputId": "8d3c612d-f270-4bb3-bd86-26fb2b9f6702",
        "colab": {
          "base_uri": "https://localhost:8080/"
        }
      },
      "source": [
        "print(test_dataset.ids[0])"
      ],
      "execution_count": 9,
      "outputs": [
        {
          "output_type": "stream",
          "text": [
            "Cc1cc(C(C)(C)C)c(O)c(C)c1Cn1c(=O)n(Cc2c(C)cc(C(C)(C)C)c(O)c2C)c(=O)n(Cc2c(C)cc(C(C)(C)C)c(O)c2C)c1=O\n"
          ],
          "name": "stdout"
        }
      ]
    },
    {
      "cell_type": "code",
      "metadata": {
        "id": "NLksdrKtuEc3",
        "outputId": "2417f95b-56e9-4800-8691-6f1f704950c7",
        "colab": {
          "base_uri": "https://localhost:8080/"
        }
      },
      "source": [
        "print(test_dataset.y[0])\n",
        "model.predict(test_dataset)[0]"
      ],
      "execution_count": 10,
      "outputs": [
        {
          "output_type": "stream",
          "text": [
            "[0. 0. 0. 1. 0. 0. 0. 0. 0. 0. 1. 0.]\n"
          ],
          "name": "stdout"
        },
        {
          "output_type": "execute_result",
          "data": {
            "text/plain": [
              "array([[0.19085124, 0.8091488 ],\n",
              "       [0.99550456, 0.00449542],\n",
              "       [0.5820026 , 0.41799742],\n",
              "       [0.64814484, 0.3518552 ],\n",
              "       [0.5408875 , 0.45911252],\n",
              "       [0.56046486, 0.4395351 ],\n",
              "       [0.94069886, 0.05930116],\n",
              "       [0.40026724, 0.59973276],\n",
              "       [0.9904799 , 0.0095201 ],\n",
              "       [0.49269363, 0.50730634],\n",
              "       [0.05511509, 0.9448849 ],\n",
              "       [0.68707335, 0.31292665]], dtype=float32)"
            ]
          },
          "metadata": {
            "tags": []
          },
          "execution_count": 10
        }
      ]
    }
  ]
}