{
  "nbformat": 4,
  "nbformat_minor": 0,
  "metadata": {
    "kernelspec": {
      "display_name": "Python 3",
      "language": "python",
      "name": "python3"
    },
    "language_info": {
      "codemirror_mode": {
        "name": "ipython",
        "version": 3
      },
      "file_extension": ".py",
      "mimetype": "text/x-python",
      "name": "python",
      "nbconvert_exporter": "python",
      "pygments_lexer": "ipython3",
      "version": "3.6.10"
    },
    "colab": {
      "name": "FREESOLV_GCN.ipynb",
      "provenance": [],
      "include_colab_link": true
    }
  },
  "cells": [
    {
      "cell_type": "markdown",
      "metadata": {
        "id": "view-in-github",
        "colab_type": "text"
      },
      "source": [
        "<a href=\"https://colab.research.google.com/github/nihal-rao/deepchem/blob/master/baselines/FREESOLV_GCN.ipynb\" target=\"_parent\"><img src=\"https://colab.research.google.com/assets/colab-badge.svg\" alt=\"Open In Colab\"/></a>"
      ]
    },
    {
      "cell_type": "markdown",
      "metadata": {
        "id": "mW-q4kpKnwm6"
      },
      "source": [
        "##Installing DeepChem"
      ]
    },
    {
      "cell_type": "code",
      "metadata": {
        "id": "glV7StXjjzt8",
        "colab": {
          "base_uri": "https://localhost:8080/"
        },
        "outputId": "557b48e3-9a6d-4ac0-e1c4-78cad7aa833c"
      },
      "source": [
        "!curl -Lo conda_installer.py https://raw.githubusercontent.com/deepchem/deepchem/master/scripts/colab_install.py\n",
        "import conda_installer\n",
        "conda_installer.install()\n",
        "!/root/miniconda/bin/conda info -e"
      ],
      "execution_count": 1,
      "outputs": [
        {
          "output_type": "stream",
          "text": [
            "  % Total    % Received % Xferd  Average Speed   Time    Time     Time  Current\n",
            "                                 Dload  Upload   Total   Spent    Left  Speed\n",
            "\r  0     0    0     0    0     0      0      0 --:--:-- --:--:-- --:--:--     0\r100  3501  100  3501    0     0  17246      0 --:--:-- --:--:-- --:--:-- 17246\n"
          ],
          "name": "stdout"
        },
        {
          "output_type": "stream",
          "text": [
            "add /root/miniconda/lib/python3.7/site-packages to PYTHONPATH\n",
            "python version: 3.7.10\n",
            "fetching installer from https://repo.continuum.io/miniconda/Miniconda3-latest-Linux-x86_64.sh\n",
            "done\n",
            "installing miniconda to /root/miniconda\n",
            "done\n",
            "installing rdkit, openmm, pdbfixer\n",
            "added conda-forge to channels\n",
            "added omnia to channels\n",
            "done\n",
            "conda packages installation finished!\n"
          ],
          "name": "stderr"
        },
        {
          "output_type": "stream",
          "text": [
            "# conda environments:\n",
            "#\n",
            "base                  *  /root/miniconda\n",
            "\n"
          ],
          "name": "stdout"
        }
      ]
    },
    {
      "cell_type": "code",
      "metadata": {
        "id": "Vo9dHE2sjzuG",
        "colab": {
          "base_uri": "https://localhost:8080/"
        },
        "outputId": "ab1b6292-8ec0-4f70-889e-93f45fa71265"
      },
      "source": [
        "!pip install --pre deepchem\n",
        "!pip install dgl\n",
        "!pip install dgllife"
      ],
      "execution_count": 2,
      "outputs": [
        {
          "output_type": "stream",
          "text": [
            "Collecting deepchem\n",
            "\u001b[?25l  Downloading https://files.pythonhosted.org/packages/04/7f/3f678587e621d1b904ed6d1af65e353b1d681d6b9f4ffaf243c79745c654/deepchem-2.6.0.dev20210403043508-py3-none-any.whl (552kB)\n",
            "\r\u001b[K     |▋                               | 10kB 5.3MB/s eta 0:00:01\r\u001b[K     |█▏                              | 20kB 8.3MB/s eta 0:00:01\r\u001b[K     |█▉                              | 30kB 10.8MB/s eta 0:00:01\r\u001b[K     |██▍                             | 40kB 9.6MB/s eta 0:00:01\r\u001b[K     |███                             | 51kB 8.8MB/s eta 0:00:01\r\u001b[K     |███▋                            | 61kB 9.0MB/s eta 0:00:01\r\u001b[K     |████▏                           | 71kB 6.9MB/s eta 0:00:01\r\u001b[K     |████▊                           | 81kB 7.6MB/s eta 0:00:01\r\u001b[K     |█████▍                          | 92kB 8.0MB/s eta 0:00:01\r\u001b[K     |██████                          | 102kB 8.5MB/s eta 0:00:01\r\u001b[K     |██████▌                         | 112kB 8.5MB/s eta 0:00:01\r\u001b[K     |███████▏                        | 122kB 8.5MB/s eta 0:00:01\r\u001b[K     |███████▊                        | 133kB 8.5MB/s eta 0:00:01\r\u001b[K     |████████▎                       | 143kB 8.5MB/s eta 0:00:01\r\u001b[K     |█████████                       | 153kB 8.5MB/s eta 0:00:01\r\u001b[K     |█████████▌                      | 163kB 8.5MB/s eta 0:00:01\r\u001b[K     |██████████                      | 174kB 8.5MB/s eta 0:00:01\r\u001b[K     |██████████▊                     | 184kB 8.5MB/s eta 0:00:01\r\u001b[K     |███████████▎                    | 194kB 8.5MB/s eta 0:00:01\r\u001b[K     |███████████▉                    | 204kB 8.5MB/s eta 0:00:01\r\u001b[K     |████████████▌                   | 215kB 8.5MB/s eta 0:00:01\r\u001b[K     |█████████████                   | 225kB 8.5MB/s eta 0:00:01\r\u001b[K     |█████████████▋                  | 235kB 8.5MB/s eta 0:00:01\r\u001b[K     |██████████████▎                 | 245kB 8.5MB/s eta 0:00:01\r\u001b[K     |██████████████▉                 | 256kB 8.5MB/s eta 0:00:01\r\u001b[K     |███████████████▍                | 266kB 8.5MB/s eta 0:00:01\r\u001b[K     |████████████████                | 276kB 8.5MB/s eta 0:00:01\r\u001b[K     |████████████████▋               | 286kB 8.5MB/s eta 0:00:01\r\u001b[K     |█████████████████▏              | 296kB 8.5MB/s eta 0:00:01\r\u001b[K     |█████████████████▉              | 307kB 8.5MB/s eta 0:00:01\r\u001b[K     |██████████████████▍             | 317kB 8.5MB/s eta 0:00:01\r\u001b[K     |███████████████████             | 327kB 8.5MB/s eta 0:00:01\r\u001b[K     |███████████████████▋            | 337kB 8.5MB/s eta 0:00:01\r\u001b[K     |████████████████████▏           | 348kB 8.5MB/s eta 0:00:01\r\u001b[K     |████████████████████▊           | 358kB 8.5MB/s eta 0:00:01\r\u001b[K     |█████████████████████▍          | 368kB 8.5MB/s eta 0:00:01\r\u001b[K     |██████████████████████          | 378kB 8.5MB/s eta 0:00:01\r\u001b[K     |██████████████████████▌         | 389kB 8.5MB/s eta 0:00:01\r\u001b[K     |███████████████████████▏        | 399kB 8.5MB/s eta 0:00:01\r\u001b[K     |███████████████████████▊        | 409kB 8.5MB/s eta 0:00:01\r\u001b[K     |████████████████████████▎       | 419kB 8.5MB/s eta 0:00:01\r\u001b[K     |█████████████████████████       | 430kB 8.5MB/s eta 0:00:01\r\u001b[K     |█████████████████████████▌      | 440kB 8.5MB/s eta 0:00:01\r\u001b[K     |██████████████████████████      | 450kB 8.5MB/s eta 0:00:01\r\u001b[K     |██████████████████████████▊     | 460kB 8.5MB/s eta 0:00:01\r\u001b[K     |███████████████████████████▎    | 471kB 8.5MB/s eta 0:00:01\r\u001b[K     |███████████████████████████▉    | 481kB 8.5MB/s eta 0:00:01\r\u001b[K     |████████████████████████████▌   | 491kB 8.5MB/s eta 0:00:01\r\u001b[K     |█████████████████████████████   | 501kB 8.5MB/s eta 0:00:01\r\u001b[K     |█████████████████████████████▋  | 512kB 8.5MB/s eta 0:00:01\r\u001b[K     |██████████████████████████████▎ | 522kB 8.5MB/s eta 0:00:01\r\u001b[K     |██████████████████████████████▉ | 532kB 8.5MB/s eta 0:00:01\r\u001b[K     |███████████████████████████████▍| 542kB 8.5MB/s eta 0:00:01\r\u001b[K     |████████████████████████████████| 552kB 8.5MB/s \n",
            "\u001b[?25hRequirement already satisfied: pandas in /usr/local/lib/python3.7/dist-packages (from deepchem) (1.1.5)\n",
            "Requirement already satisfied: scikit-learn in /usr/local/lib/python3.7/dist-packages (from deepchem) (0.22.2.post1)\n",
            "Requirement already satisfied: numpy in /usr/local/lib/python3.7/dist-packages (from deepchem) (1.19.5)\n",
            "Requirement already satisfied: scipy in /usr/local/lib/python3.7/dist-packages (from deepchem) (1.4.1)\n",
            "Requirement already satisfied: joblib in /usr/local/lib/python3.7/dist-packages (from deepchem) (1.0.1)\n",
            "Requirement already satisfied: pytz>=2017.2 in /usr/local/lib/python3.7/dist-packages (from pandas->deepchem) (2018.9)\n",
            "Requirement already satisfied: python-dateutil>=2.7.3 in /usr/local/lib/python3.7/dist-packages (from pandas->deepchem) (2.8.1)\n",
            "Requirement already satisfied: six>=1.5 in /usr/local/lib/python3.7/dist-packages (from python-dateutil>=2.7.3->pandas->deepchem) (1.15.0)\n",
            "Installing collected packages: deepchem\n",
            "Successfully installed deepchem-2.6.0.dev20210403043508\n",
            "Collecting dgl\n",
            "\u001b[?25l  Downloading https://files.pythonhosted.org/packages/c8/72/61668fa3ef059f889f98653197e6f93592735660298042ffc5adb2005ca5/dgl-0.6.0.post1-cp37-cp37m-manylinux1_x86_64.whl (4.3MB)\n",
            "\u001b[K     |████████████████████████████████| 4.3MB 9.1MB/s \n",
            "\u001b[?25hRequirement already satisfied: scipy>=1.1.0 in /usr/local/lib/python3.7/dist-packages (from dgl) (1.4.1)\n",
            "Requirement already satisfied: numpy>=1.14.0 in /usr/local/lib/python3.7/dist-packages (from dgl) (1.19.5)\n",
            "Requirement already satisfied: requests>=2.19.0 in /usr/local/lib/python3.7/dist-packages (from dgl) (2.23.0)\n",
            "Requirement already satisfied: networkx>=2.1 in /usr/local/lib/python3.7/dist-packages (from dgl) (2.5)\n",
            "Requirement already satisfied: urllib3!=1.25.0,!=1.25.1,<1.26,>=1.21.1 in /usr/local/lib/python3.7/dist-packages (from requests>=2.19.0->dgl) (1.24.3)\n",
            "Requirement already satisfied: idna<3,>=2.5 in /usr/local/lib/python3.7/dist-packages (from requests>=2.19.0->dgl) (2.10)\n",
            "Requirement already satisfied: certifi>=2017.4.17 in /usr/local/lib/python3.7/dist-packages (from requests>=2.19.0->dgl) (2020.12.5)\n",
            "Requirement already satisfied: chardet<4,>=3.0.2 in /usr/local/lib/python3.7/dist-packages (from requests>=2.19.0->dgl) (3.0.4)\n",
            "Requirement already satisfied: decorator>=4.3.0 in /usr/local/lib/python3.7/dist-packages (from networkx>=2.1->dgl) (4.4.2)\n",
            "Installing collected packages: dgl\n",
            "Successfully installed dgl-0.6.0.post1\n",
            "Collecting dgllife\n",
            "\u001b[?25l  Downloading https://files.pythonhosted.org/packages/89/f3/04509470ce7fad6d647c8b41ffff8984b7691260eb78b305997104b09ebc/dgllife-0.2.6.tar.gz (130kB)\n",
            "\u001b[K     |████████████████████████████████| 133kB 9.1MB/s \n",
            "\u001b[?25hRequirement already satisfied: scikit-learn>=0.22.2 in /usr/local/lib/python3.7/dist-packages (from dgllife) (0.22.2.post1)\n",
            "Requirement already satisfied: pandas in /usr/local/lib/python3.7/dist-packages (from dgllife) (1.1.5)\n",
            "Requirement already satisfied: requests>=2.22.0 in /usr/local/lib/python3.7/dist-packages (from dgllife) (2.23.0)\n",
            "Requirement already satisfied: tqdm in /usr/local/lib/python3.7/dist-packages (from dgllife) (4.41.1)\n",
            "Requirement already satisfied: numpy>=1.14.0 in /usr/local/lib/python3.7/dist-packages (from dgllife) (1.19.5)\n",
            "Requirement already satisfied: scipy>=1.1.0 in /usr/local/lib/python3.7/dist-packages (from dgllife) (1.4.1)\n",
            "Requirement already satisfied: networkx>=2.1 in /usr/local/lib/python3.7/dist-packages (from dgllife) (2.5)\n",
            "Requirement already satisfied: hyperopt in /usr/local/lib/python3.7/dist-packages (from dgllife) (0.1.2)\n",
            "Requirement already satisfied: joblib in /usr/local/lib/python3.7/dist-packages (from dgllife) (1.0.1)\n",
            "Requirement already satisfied: pytz>=2017.2 in /usr/local/lib/python3.7/dist-packages (from pandas->dgllife) (2018.9)\n",
            "Requirement already satisfied: python-dateutil>=2.7.3 in /usr/local/lib/python3.7/dist-packages (from pandas->dgllife) (2.8.1)\n",
            "Requirement already satisfied: idna<3,>=2.5 in /usr/local/lib/python3.7/dist-packages (from requests>=2.22.0->dgllife) (2.10)\n",
            "Requirement already satisfied: chardet<4,>=3.0.2 in /usr/local/lib/python3.7/dist-packages (from requests>=2.22.0->dgllife) (3.0.4)\n",
            "Requirement already satisfied: urllib3!=1.25.0,!=1.25.1,<1.26,>=1.21.1 in /usr/local/lib/python3.7/dist-packages (from requests>=2.22.0->dgllife) (1.24.3)\n",
            "Requirement already satisfied: certifi>=2017.4.17 in /usr/local/lib/python3.7/dist-packages (from requests>=2.22.0->dgllife) (2020.12.5)\n",
            "Requirement already satisfied: decorator>=4.3.0 in /usr/local/lib/python3.7/dist-packages (from networkx>=2.1->dgllife) (4.4.2)\n",
            "Requirement already satisfied: pymongo in /usr/local/lib/python3.7/dist-packages (from hyperopt->dgllife) (3.11.3)\n",
            "Requirement already satisfied: future in /usr/local/lib/python3.7/dist-packages (from hyperopt->dgllife) (0.16.0)\n",
            "Requirement already satisfied: six in /usr/local/lib/python3.7/dist-packages (from hyperopt->dgllife) (1.15.0)\n",
            "Building wheels for collected packages: dgllife\n",
            "  Building wheel for dgllife (setup.py) ... \u001b[?25l\u001b[?25hdone\n",
            "  Created wheel for dgllife: filename=dgllife-0.2.6-cp37-none-any.whl size=205837 sha256=966ec5eb90572d47aaee3986a5715ca2a6e9a7acaf0facd979f5b7a28a6e78fb\n",
            "  Stored in directory: /root/.cache/pip/wheels/cf/29/39/54bbf37c8999f605d347805d4dec838e9ca8a894c90b119600\n",
            "Successfully built dgllife\n",
            "Installing collected packages: dgllife\n",
            "Successfully installed dgllife-0.2.6\n"
          ],
          "name": "stdout"
        }
      ]
    },
    {
      "cell_type": "code",
      "metadata": {
        "id": "dmQXbIX0jzuZ",
        "colab": {
          "base_uri": "https://localhost:8080/",
          "height": 35
        },
        "outputId": "b6cc6860-9315-4ae8-ce66-8b159414915b"
      },
      "source": [
        "import deepchem as dc\n",
        "dc.__version__"
      ],
      "execution_count": 3,
      "outputs": [
        {
          "output_type": "execute_result",
          "data": {
            "application/vnd.google.colaboratory.intrinsic+json": {
              "type": "string"
            },
            "text/plain": [
              "'2.6.0.dev'"
            ]
          },
          "metadata": {
            "tags": []
          },
          "execution_count": 3
        }
      ]
    },
    {
      "cell_type": "markdown",
      "metadata": {
        "id": "gosLgS7Zjzuh"
      },
      "source": [
        "## Using GraphConv featuriser\n",
        "\n",
        "Implementing and recording the baseline for Tox21 dataset."
      ]
    },
    {
      "cell_type": "code",
      "metadata": {
        "id": "u-pWelLHjzui",
        "colab": {
          "base_uri": "https://localhost:8080/"
        },
        "outputId": "3862c231-a5ce-4b75-dd9d-f427ee8c367a"
      },
      "source": [
        "featurizer = dc.feat.MolGraphConvFeaturizer()\n",
        "tasks, datasets, transformers = dc.molnet.load_sampl(featurizer=featurizer)\n",
        "train_dataset, valid_dataset, test_dataset = datasets\n",
        "print(train_dataset)"
      ],
      "execution_count": 5,
      "outputs": [
        {
          "output_type": "stream",
          "text": [
            "<DiskDataset X.shape: (511,), y.shape: (511, 1), w.shape: (511, 1), ids: ['CS(=O)(=O)Cl' 'CC(C)C=C' 'CCCCCCCO' ... 'CC1=CCCCC1'\n",
            " 'CC1=CC[C@H](C[C@@H]1O)C(=C)C' 'CC(=C)[C@H]1CCC(=CC1)C=O'], task_names: ['expt']>\n"
          ],
          "name": "stdout"
        }
      ]
    },
    {
      "cell_type": "markdown",
      "metadata": {
        "id": "fSmQ-U6Xjzup"
      },
      "source": [
        "`MolGraphConvFeaturizer` class is a featurizer of general graph convolution networks for molecules.\n",
        "\n",
        "The default node(atom) and edge(bond) representations are based on WeaveNet paper.\n",
        "\n",
        "The default node representation are constructed by concatenating the following values, and the feature length is 30.\n",
        "\n",
        "    Atom type: A one-hot vector of this atom, “C”, “N”, “O”, “F”, “P”, “S”, “Cl”, “Br”, “I”, “other atoms”.\n",
        "\n",
        "    Formal charge: Integer electronic charge.\n",
        "\n",
        "    Hybridization: A one-hot vector of “sp”, “sp2”, “sp3”.\n",
        "\n",
        "    Hydrogen bonding: A one-hot vector of whether this atom is a hydrogen bond donor or acceptor.\n",
        "\n",
        "    Aromatic: A one-hot vector of whether the atom belongs to an aromatic ring.\n",
        "\n",
        "    Degree: A one-hot vector of the degree (0-5) of this atom.\n",
        "\n",
        "    Number of Hydrogens: A one-hot vector of the number of hydrogens (0-4) that this atom connected.\n",
        "\n",
        "    Chirality: A one-hot vector of the chirality, “R” or “S”. (Optional)\n",
        "\n",
        "    Partial charge: Calculated partial charge. (Optional)\n",
        "\n",
        "The default edge representation are constructed by concatenating the following values, and the feature length is 11.\n",
        "\n",
        "    Bond type: A one-hot vector of the bond type, “single”, “double”, “triple”, or “aromatic”.\n",
        "\n",
        "    Same ring: A one-hot vector of whether the atoms in the pair are in the same ring.\n",
        "\n",
        "    Conjugated: A one-hot vector of whether this bond is conjugated or not.\n",
        "\n",
        "    Stereo: A one-hot vector of the stereo configuration of a bond.\n"
      ]
    },
    {
      "cell_type": "code",
      "metadata": {
        "id": "-w0OhPYzjzu7",
        "colab": {
          "base_uri": "https://localhost:8080/"
        },
        "outputId": "5561814c-c227-4452-ec13-134af280b016"
      },
      "source": [
        "tasks"
      ],
      "execution_count": null,
      "outputs": [
        {
          "output_type": "execute_result",
          "data": {
            "text/plain": [
              "['expt']"
            ]
          },
          "metadata": {
            "tags": []
          },
          "execution_count": 5
        }
      ]
    },
    {
      "cell_type": "markdown",
      "metadata": {
        "id": "denSanJbtVcS"
      },
      "source": [
        "The task corresponds to predicting the free hydration energy in kcal/mol for a given molecule."
      ]
    },
    {
      "cell_type": "code",
      "metadata": {
        "id": "EfOwqhtAjzvA",
        "colab": {
          "base_uri": "https://localhost:8080/"
        },
        "outputId": "4c877ba9-3483-48d9-d61b-ef9f377bad9f"
      },
      "source": [
        "datasets"
      ],
      "execution_count": null,
      "outputs": [
        {
          "output_type": "execute_result",
          "data": {
            "text/plain": [
              "(<DiskDataset X.shape: (511,), y.shape: (511, 1), w.shape: (511, 1), ids: ['CS(=O)(=O)Cl' 'CC(C)C=C' 'CCCCCCCO' ... 'CC1=CCCCC1'\n",
              "  'CC1=CC[C@H](C[C@@H]1O)C(=C)C' 'CC(=C)[C@H]1CCC(=CC1)C=O'], task_names: ['expt']>,\n",
              " <DiskDataset X.shape: (64,), y.shape: (64, 1), w.shape: (64, 1), ids: ['c1ccc2cc(ccc2c1)O' 'Cc1ccc2cc(ccc2c1)C' 'c1ccc2ccccc2c1' ...\n",
              "  'c1cnc[nH]1' 'Cn1ccnc1' 'Cc1c[nH]cn1'], task_names: ['expt']>,\n",
              " <DiskDataset X.shape: (64,), y.shape: (64, 1), w.shape: (64, 1), ids: ['CN1CCNCC1' 'CN1CCN(CC1)C' 'C1CNCCN1' ... 'Cc1cccc(c1C)Nc2ccccc2C(=O)O'\n",
              "  'C1CCCC(CC1)O' 'c1ccc2c(c1)CCC2'], task_names: ['expt']>)"
            ]
          },
          "metadata": {
            "tags": []
          },
          "execution_count": 6
        }
      ]
    },
    {
      "cell_type": "markdown",
      "metadata": {
        "id": "OJrGU39bwDXY"
      },
      "source": [
        "There are three dataset objects - train split, val split and test split. Each split consists of X and y - X is the features and y is the output label. Froe example the train split has X.shape (513, 1024)\n",
        "and y.shape (513, 1). This implies that there are 513 samples in the train split - and each sample is represented by an ECFP vector of size 1024. "
      ]
    },
    {
      "cell_type": "markdown",
      "metadata": {
        "id": "Dg-thg7gwhY4"
      },
      "source": [
        "##GCN Model"
      ]
    },
    {
      "cell_type": "code",
      "metadata": {
        "id": "_C0c1jW-wb9R",
        "colab": {
          "base_uri": "https://localhost:8080/"
        },
        "outputId": "9965f355-c7b1-464f-a4ed-41a959ce15c7"
      },
      "source": [
        "from deepchem.models import GCNModel\n",
        "model = GCNModel(mode='regression', n_tasks=len(tasks), batch_size=32, learning_rate=0.001)\n",
        "model.fit(train_dataset, nb_epoch=15)"
      ],
      "execution_count": null,
      "outputs": [
        {
          "output_type": "stream",
          "text": [
            "DGL backend not selected or invalid.  Assuming PyTorch for now.\n",
            "Using backend: pytorch\n"
          ],
          "name": "stderr"
        },
        {
          "output_type": "stream",
          "text": [
            "Setting the default backend to \"pytorch\". You can change it in the ~/.dgl/config.json file or export the DGLBACKEND environment variable.  Valid options are: pytorch, mxnet, tensorflow (all lowercase)\n"
          ],
          "name": "stdout"
        },
        {
          "output_type": "execute_result",
          "data": {
            "text/plain": [
              "0.08678099513053894"
            ]
          },
          "metadata": {
            "tags": []
          },
          "execution_count": 7
        }
      ]
    },
    {
      "cell_type": "markdown",
      "metadata": {
        "id": "GjOro0o0xA08"
      },
      "source": [
        "`GCNModel` is a self-written modification of the GraphConv model with improved regularisation. It uses a different method of computing graph-level representations, computing a weighted sum and an element-wise maximum of the representations of all nodes in a graph and concatenates them. The node weights are obtained by using a linear/dense layer followed by a sigmoid function. \n",
        "For each graph convolution, the learnable weight in this model is shared across all nodes. \n",
        "There are also minor differences in using dropout, skip connections and batch normalization. "
      ]
    },
    {
      "cell_type": "code",
      "metadata": {
        "id": "WUaR0A5HxsQu",
        "colab": {
          "base_uri": "https://localhost:8080/"
        },
        "outputId": "1288bfb2-7381-4e2c-c5aa-3973b8e3012c"
      },
      "source": [
        "import numpy as np\n",
        "\n",
        "metric = dc.metrics.Metric(dc.metrics.pearson_r2_score)\n",
        "print('training set score:', model.evaluate(train_dataset, [metric], transformers))\n",
        "print('test set score:', model.evaluate(test_dataset, [metric], transformers))"
      ],
      "execution_count": null,
      "outputs": [
        {
          "output_type": "stream",
          "text": [
            "training set score: {'pearson_r2_score': 0.9431421065989187}\n",
            "test set score: {'pearson_r2_score': 0.6446763783350966}\n"
          ],
          "name": "stdout"
        }
      ]
    },
    {
      "cell_type": "markdown",
      "metadata": {
        "id": "1LCv_TMDuAiR"
      },
      "source": [
        "##Prediction Demo"
      ]
    },
    {
      "cell_type": "code",
      "metadata": {
        "colab": {
          "base_uri": "https://localhost:8080/"
        },
        "id": "JohFJcECfYjq",
        "outputId": "2b468afb-395a-45c5-84ef-5117654880e8"
      },
      "source": [
        "print(test_dataset.ids[0])"
      ],
      "execution_count": 6,
      "outputs": [
        {
          "output_type": "stream",
          "text": [
            "CN1CCNCC1\n"
          ],
          "name": "stdout"
        }
      ]
    },
    {
      "cell_type": "code",
      "metadata": {
        "colab": {
          "base_uri": "https://localhost:8080/",
          "height": 394
        },
        "id": "qs8Hj-AI8Unf",
        "outputId": "a34f22e6-81ab-40bb-b19b-ebfcff52e30d"
      },
      "source": [
        "from rdkit import Chem\n",
        "from rdkit.Chem import Draw\n",
        "\n",
        "import matplotlib.pyplot as plt\n",
        "%matplotlib inline\n",
        "\n",
        "smiles_to_mol = Chem.MolFromSmiles(test_dataset.ids[0])\n",
        "\n",
        "g = Draw.MolToMPL(smiles_to_mol, size=(200, 200))"
      ],
      "execution_count": 10,
      "outputs": [
        {
          "output_type": "display_data",
          "data": {
            "image/png": "[encoded data removed]",
            "text/plain": [
              "<Figure size 144x144 with 1 Axes>"
            ]
          },
          "metadata": {
            "tags": [],
            "needs_background": "light"
          }
        }
      ]
    },
    {
      "cell_type": "code",
      "metadata": {
        "colab": {
          "base_uri": "https://localhost:8080/"
        },
        "id": "w6vZI9B8dO4T",
        "outputId": "3d3cc416-3dfb-4646-b6d1-a3c170c886ff"
      },
      "source": [
        "print(test_dataset.y[0])\n",
        "model.predict(test_dataset)[0]"
      ],
      "execution_count": null,
      "outputs": [
        {
          "output_type": "stream",
          "text": [
            "[-1.37468584]\n"
          ],
          "name": "stdout"
        },
        {
          "output_type": "execute_result",
          "data": {
            "text/plain": [
              "array([-1.5586928], dtype=float32)"
            ]
          },
          "metadata": {
            "tags": []
          },
          "execution_count": 16
        }
      ]
    }
  ]
}