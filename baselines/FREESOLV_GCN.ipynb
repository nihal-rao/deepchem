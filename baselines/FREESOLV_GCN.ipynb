{
  "nbformat": 4,
  "nbformat_minor": 0,
  "metadata": {
    "kernelspec": {
      "display_name": "Python 3",
      "language": "python",
      "name": "python3"
    },
    "language_info": {
      "codemirror_mode": {
        "name": "ipython",
        "version": 3
      },
      "file_extension": ".py",
      "mimetype": "text/x-python",
      "name": "python",
      "nbconvert_exporter": "python",
      "pygments_lexer": "ipython3",
      "version": "3.6.10"
    },
    "colab": {
      "name": "FREESOLV_GCN.ipynb",
      "provenance": [],
      "include_colab_link": true
    }
  },
  "cells": [
    {
      "cell_type": "markdown",
      "metadata": {
        "id": "view-in-github",
        "colab_type": "text"
      },
      "source": [
        "<a href=\"https://colab.research.google.com/github/nihal-rao/deepchem/blob/master/baselines/FREESOLV_GCN.ipynb\" target=\"_parent\"><img src=\"https://colab.research.google.com/assets/colab-badge.svg\" alt=\"Open In Colab\"/></a>"
      ]
    },
    {
      "cell_type": "markdown",
      "metadata": {
        "id": "mW-q4kpKnwm6"
      },
      "source": [
        "##Installing DeepChem"
      ]
    },
    {
      "cell_type": "code",
      "metadata": {
        "id": "glV7StXjjzt8",
        "colab": {
          "base_uri": "https://localhost:8080/"
        },
        "outputId": "c81dfe90-940f-40ac-819c-247abd7f78ea"
      },
      "source": [
        "!curl -Lo conda_installer.py https://raw.githubusercontent.com/deepchem/deepchem/master/scripts/colab_install.py\n",
        "import conda_installer\n",
        "conda_installer.install()\n",
        "!/root/miniconda/bin/conda info -e"
      ],
      "execution_count": 1,
      "outputs": [
        {
          "output_type": "stream",
          "text": [
            "  % Total    % Received % Xferd  Average Speed   Time    Time     Time  Current\n",
            "                                 Dload  Upload   Total   Spent    Left  Speed\n",
            "\r  0     0    0     0    0     0      0      0 --:--:-- --:--:-- --:--:--     0\r100  3501  100  3501    0     0  25554      0 --:--:-- --:--:-- --:--:-- 25554\n"
          ],
          "name": "stdout"
        },
        {
          "output_type": "stream",
          "text": [
            "add /root/miniconda/lib/python3.7/site-packages to PYTHONPATH\n",
            "python version: 3.7.10\n",
            "fetching installer from https://repo.continuum.io/miniconda/Miniconda3-latest-Linux-x86_64.sh\n",
            "done\n",
            "installing miniconda to /root/miniconda\n",
            "done\n",
            "installing rdkit, openmm, pdbfixer\n",
            "added conda-forge to channels\n",
            "added omnia to channels\n",
            "done\n",
            "conda packages installation finished!\n"
          ],
          "name": "stderr"
        },
        {
          "output_type": "stream",
          "text": [
            "# conda environments:\n",
            "#\n",
            "base                  *  /root/miniconda\n",
            "\n"
          ],
          "name": "stdout"
        }
      ]
    },
    {
      "cell_type": "code",
      "metadata": {
        "id": "Vo9dHE2sjzuG",
        "colab": {
          "base_uri": "https://localhost:8080/"
        },
        "outputId": "78db9430-e15b-4eb7-a2c8-7cc10ff57dbc"
      },
      "source": [
        "!pip install --pre deepchem\n",
        "!pip install dgl\n",
        "!pip install dgllife"
      ],
      "execution_count": 2,
      "outputs": [
        {
          "output_type": "stream",
          "text": [
            "Collecting deepchem\n",
            "\u001b[?25l  Downloading https://files.pythonhosted.org/packages/1f/b7/b2f36388bdd60420d2f6923076a30c57ca08557b7fa6b63e720440188c13/deepchem-2.6.0.dev20210323214627-py3-none-any.whl (552kB)\n",
            "\r\u001b[K     |▋                               | 10kB 13.8MB/s eta 0:00:01\r\u001b[K     |█▏                              | 20kB 9.2MB/s eta 0:00:01\r\u001b[K     |█▉                              | 30kB 8.9MB/s eta 0:00:01\r\u001b[K     |██▍                             | 40kB 7.4MB/s eta 0:00:01\r\u001b[K     |███                             | 51kB 4.5MB/s eta 0:00:01\r\u001b[K     |███▋                            | 61kB 5.0MB/s eta 0:00:01\r\u001b[K     |████▏                           | 71kB 5.3MB/s eta 0:00:01\r\u001b[K     |████▊                           | 81kB 5.3MB/s eta 0:00:01\r\u001b[K     |█████▍                          | 92kB 5.2MB/s eta 0:00:01\r\u001b[K     |██████                          | 102kB 4.4MB/s eta 0:00:01\r\u001b[K     |██████▌                         | 112kB 4.4MB/s eta 0:00:01\r\u001b[K     |███████▏                        | 122kB 4.4MB/s eta 0:00:01\r\u001b[K     |███████▊                        | 133kB 4.4MB/s eta 0:00:01\r\u001b[K     |████████▎                       | 143kB 4.4MB/s eta 0:00:01\r\u001b[K     |█████████                       | 153kB 4.4MB/s eta 0:00:01\r\u001b[K     |█████████▌                      | 163kB 4.4MB/s eta 0:00:01\r\u001b[K     |██████████                      | 174kB 4.4MB/s eta 0:00:01\r\u001b[K     |██████████▊                     | 184kB 4.4MB/s eta 0:00:01\r\u001b[K     |███████████▎                    | 194kB 4.4MB/s eta 0:00:01\r\u001b[K     |███████████▉                    | 204kB 4.4MB/s eta 0:00:01\r\u001b[K     |████████████▌                   | 215kB 4.4MB/s eta 0:00:01\r\u001b[K     |█████████████                   | 225kB 4.4MB/s eta 0:00:01\r\u001b[K     |█████████████▋                  | 235kB 4.4MB/s eta 0:00:01\r\u001b[K     |██████████████▎                 | 245kB 4.4MB/s eta 0:00:01\r\u001b[K     |██████████████▉                 | 256kB 4.4MB/s eta 0:00:01\r\u001b[K     |███████████████▍                | 266kB 4.4MB/s eta 0:00:01\r\u001b[K     |████████████████                | 276kB 4.4MB/s eta 0:00:01\r\u001b[K     |████████████████▋               | 286kB 4.4MB/s eta 0:00:01\r\u001b[K     |█████████████████▏              | 296kB 4.4MB/s eta 0:00:01\r\u001b[K     |█████████████████▉              | 307kB 4.4MB/s eta 0:00:01\r\u001b[K     |██████████████████▍             | 317kB 4.4MB/s eta 0:00:01\r\u001b[K     |███████████████████             | 327kB 4.4MB/s eta 0:00:01\r\u001b[K     |███████████████████▋            | 337kB 4.4MB/s eta 0:00:01\r\u001b[K     |████████████████████▏           | 348kB 4.4MB/s eta 0:00:01\r\u001b[K     |████████████████████▊           | 358kB 4.4MB/s eta 0:00:01\r\u001b[K     |█████████████████████▍          | 368kB 4.4MB/s eta 0:00:01\r\u001b[K     |██████████████████████          | 378kB 4.4MB/s eta 0:00:01\r\u001b[K     |██████████████████████▌         | 389kB 4.4MB/s eta 0:00:01\r\u001b[K     |███████████████████████▏        | 399kB 4.4MB/s eta 0:00:01\r\u001b[K     |███████████████████████▊        | 409kB 4.4MB/s eta 0:00:01\r\u001b[K     |████████████████████████▎       | 419kB 4.4MB/s eta 0:00:01\r\u001b[K     |█████████████████████████       | 430kB 4.4MB/s eta 0:00:01\r\u001b[K     |█████████████████████████▌      | 440kB 4.4MB/s eta 0:00:01\r\u001b[K     |██████████████████████████      | 450kB 4.4MB/s eta 0:00:01\r\u001b[K     |██████████████████████████▊     | 460kB 4.4MB/s eta 0:00:01\r\u001b[K     |███████████████████████████▎    | 471kB 4.4MB/s eta 0:00:01\r\u001b[K     |███████████████████████████▉    | 481kB 4.4MB/s eta 0:00:01\r\u001b[K     |████████████████████████████▌   | 491kB 4.4MB/s eta 0:00:01\r\u001b[K     |█████████████████████████████   | 501kB 4.4MB/s eta 0:00:01\r\u001b[K     |█████████████████████████████▋  | 512kB 4.4MB/s eta 0:00:01\r\u001b[K     |██████████████████████████████▎ | 522kB 4.4MB/s eta 0:00:01\r\u001b[K     |██████████████████████████████▉ | 532kB 4.4MB/s eta 0:00:01\r\u001b[K     |███████████████████████████████▍| 542kB 4.4MB/s eta 0:00:01\r\u001b[K     |████████████████████████████████| 552kB 4.4MB/s \n",
            "\u001b[?25hRequirement already satisfied: scipy in /usr/local/lib/python3.7/dist-packages (from deepchem) (1.4.1)\n",
            "Requirement already satisfied: scikit-learn in /usr/local/lib/python3.7/dist-packages (from deepchem) (0.22.2.post1)\n",
            "Requirement already satisfied: joblib in /usr/local/lib/python3.7/dist-packages (from deepchem) (1.0.1)\n",
            "Requirement already satisfied: pandas in /usr/local/lib/python3.7/dist-packages (from deepchem) (1.1.5)\n",
            "Requirement already satisfied: numpy in /usr/local/lib/python3.7/dist-packages (from deepchem) (1.19.5)\n",
            "Requirement already satisfied: pytz>=2017.2 in /usr/local/lib/python3.7/dist-packages (from pandas->deepchem) (2018.9)\n",
            "Requirement already satisfied: python-dateutil>=2.7.3 in /usr/local/lib/python3.7/dist-packages (from pandas->deepchem) (2.8.1)\n",
            "Requirement already satisfied: six>=1.5 in /usr/local/lib/python3.7/dist-packages (from python-dateutil>=2.7.3->pandas->deepchem) (1.15.0)\n",
            "Installing collected packages: deepchem\n",
            "Successfully installed deepchem-2.6.0.dev20210323214627\n"
          ],
          "name": "stdout"
        }
      ]
    },
    {
      "cell_type": "markdown",
      "metadata": {
        "id": "d4N2Z66vjzuY"
      },
      "source": [
        "We can now import the `deepchem` package to play with."
      ]
    },
    {
      "cell_type": "code",
      "metadata": {
        "id": "dmQXbIX0jzuZ",
        "colab": {
          "base_uri": "https://localhost:8080/",
          "height": 35
        },
        "outputId": "99d74086-8c66-46f1-d448-61cef68363ca"
      },
      "source": [
        "import deepchem as dc\n",
        "dc.__version__"
      ],
      "execution_count": 3,
      "outputs": [
        {
          "output_type": "execute_result",
          "data": {
            "application/vnd.google.colaboratory.intrinsic+json": {
              "type": "string"
            },
            "text/plain": [
              "'2.6.0.dev'"
            ]
          },
          "metadata": {
            "tags": []
          },
          "execution_count": 3
        }
      ]
    },
    {
      "cell_type": "markdown",
      "metadata": {
        "id": "gosLgS7Zjzuh"
      },
      "source": [
        "## Using GraphConv featuriser\n",
        "\n",
        "Implementing and recording the baseline for Tox21 dataset."
      ]
    },
    {
      "cell_type": "code",
      "metadata": {
        "id": "u-pWelLHjzui",
        "colab": {
          "base_uri": "https://localhost:8080/"
        },
        "outputId": "63fe23ca-1f4f-4c5d-e82a-b4b5779e2b0a"
      },
      "source": [
        "featurizer = dc.feat.MolGraphConvFeaturizer()\n",
        "tasks, datasets, transformers = dc.molnet.load_sampl(featurizer=featurizer)\n",
        "train_dataset, valid_dataset, test_dataset = datasets\n",
        "print(train_dataset)"
      ],
      "execution_count": 4,
      "outputs": [
        {
          "output_type": "stream",
          "text": [
            "Failed to featurize datapoint 61, N. Appending empty array\n",
            "Exception message: zero-size array to reduction operation maximum which has no identity\n",
            "Failed to featurize datapoint 195, S. Appending empty array\n",
            "Exception message: zero-size array to reduction operation maximum which has no identity\n",
            "Failed to featurize datapoint 286, C. Appending empty array\n",
            "Exception message: zero-size array to reduction operation maximum which has no identity\n",
            "/usr/local/lib/python3.7/dist-packages/numpy/core/_asarray.py:83: VisibleDeprecationWarning: Creating an ndarray from ragged nested sequences (which is a list-or-tuple of lists-or-tuples-or ndarrays with different lengths or shapes) is deprecated. If you meant to do this, you must specify 'dtype=object' when creating the ndarray\n",
            "  return array(a, dtype, copy=False, order=order)\n"
          ],
          "name": "stderr"
        },
        {
          "output_type": "stream",
          "text": [
            "<DiskDataset X.shape: (511,), y.shape: (511, 1), w.shape: (511, 1), ids: ['CS(=O)(=O)Cl' 'CC(C)C=C' 'CCCCCCCO' ... 'CC1=CCCCC1'\n",
            " 'CC1=CC[C@H](C[C@@H]1O)C(=C)C' 'CC(=C)[C@H]1CCC(=CC1)C=O'], task_names: ['expt']>\n"
          ],
          "name": "stdout"
        }
      ]
    },
    {
      "cell_type": "markdown",
      "metadata": {
        "id": "fSmQ-U6Xjzup"
      },
      "source": [
        "ECFP featurizer is used. Extended Connectivity Fingerprints  is a **fingerprinting** method. They are also sometimes called \"circular fingerprints\". The ECFP algorithm begins by classifying atoms based only on their direct properties and bonds. Each unique pattern is a feature. For example, \"carbon atom bonded to two hydrogens and two heavy atoms\" would be a feature, and a particular element of the fingerprint is set to 1 for any molecule that contains that feature. It then iteratively identifies new features by looking at larger circular neighborhoods. One specific feature bonded to two other specific features becomes a higher level feature, and the corresponding element is set for any molecule that contains it. This continues for a fixed number of iterations, most often two."
      ]
    },
    {
      "cell_type": "code",
      "metadata": {
        "id": "-w0OhPYzjzu7",
        "colab": {
          "base_uri": "https://localhost:8080/"
        },
        "outputId": "599ff86a-d71b-47c7-c359-7b2a814dd588"
      },
      "source": [
        "tasks"
      ],
      "execution_count": null,
      "outputs": [
        {
          "output_type": "execute_result",
          "data": {
            "text/plain": [
              "['expt']"
            ]
          },
          "metadata": {
            "tags": []
          },
          "execution_count": 5
        }
      ]
    },
    {
      "cell_type": "markdown",
      "metadata": {
        "id": "denSanJbtVcS"
      },
      "source": [
        "Above are the tasks in the Tox21 dataset - there are 12 tasks, each corresponding to different biotoxicity targets, such as cell receptors and stress response pathways."
      ]
    },
    {
      "cell_type": "code",
      "metadata": {
        "id": "EfOwqhtAjzvA",
        "colab": {
          "base_uri": "https://localhost:8080/"
        },
        "outputId": "ec267c09-58ac-42fb-fb16-49834ebd0720"
      },
      "source": [
        "datasets"
      ],
      "execution_count": 5,
      "outputs": [
        {
          "output_type": "execute_result",
          "data": {
            "text/plain": [
              "(<DiskDataset X.shape: (511,), y.shape: (511, 1), w.shape: (511, 1), ids: ['CS(=O)(=O)Cl' 'CC(C)C=C' 'CCCCCCCO' ... 'CC1=CCCCC1'\n",
              "  'CC1=CC[C@H](C[C@@H]1O)C(=C)C' 'CC(=C)[C@H]1CCC(=CC1)C=O'], task_names: ['expt']>,\n",
              " <DiskDataset X.shape: (64,), y.shape: (64, 1), w.shape: (64, 1), ids: ['c1ccc2cc(ccc2c1)O' 'Cc1ccc2cc(ccc2c1)C' 'c1ccc2ccccc2c1' ...\n",
              "  'c1cnc[nH]1' 'Cn1ccnc1' 'Cc1c[nH]cn1'], task_names: ['expt']>,\n",
              " <DiskDataset X.shape: (64,), y.shape: (64, 1), w.shape: (64, 1), ids: ['CN1CCNCC1' 'CN1CCN(CC1)C' 'C1CNCCN1' ... 'Cc1cccc(c1C)Nc2ccccc2C(=O)O'\n",
              "  'C1CCCC(CC1)O' 'c1ccc2c(c1)CCC2'], task_names: ['expt']>)"
            ]
          },
          "metadata": {
            "tags": []
          },
          "execution_count": 5
        }
      ]
    },
    {
      "cell_type": "markdown",
      "metadata": {
        "id": "OJrGU39bwDXY"
      },
      "source": [
        "There are three dataset objects - train split, val split and test split. Each split consists of X and y - X is the features and y is the output label. Froe example the train split has X.shape (513, 1024)\n",
        "and y.shape (513, 1). This implies that there are 513 samples in the train split - and each sample is represented by an ECFP vector of size 1024. "
      ]
    },
    {
      "cell_type": "markdown",
      "metadata": {
        "id": "Dg-thg7gwhY4"
      },
      "source": [
        "##Training the GCNNN"
      ]
    },
    {
      "cell_type": "code",
      "metadata": {
        "id": "_C0c1jW-wb9R",
        "colab": {
          "base_uri": "https://localhost:8080/"
        },
        "outputId": "91043e0b-510a-426f-9d09-c28f63911b47"
      },
      "source": [
        "from deepchem.models import GCNModel\n",
        "model = GCNModel(mode='regression', n_tasks=len(tasks), batch_size=32, learning_rate=0.001)\n",
        "model.fit(train_dataset, nb_epoch=15)"
      ],
      "execution_count": 11,
      "outputs": [
        {
          "output_type": "execute_result",
          "data": {
            "text/plain": [
              "0.07689919471740722"
            ]
          },
          "metadata": {
            "tags": []
          },
          "execution_count": 11
        }
      ]
    },
    {
      "cell_type": "markdown",
      "metadata": {
        "id": "GjOro0o0xA08"
      },
      "source": [
        "`MultitaskClassifier` is a simple stack of fully connected layers. A single hidden layer of width 1000 is used. Each input will have 1024 features, and it should produce predictions for 12 different tasks.\n",
        "\n",
        "Note that the above network is performing multitask learning - a single network is used for all 12 tasks. This is because inter task correlations exist in the data, and to take if advantage of this single neural network is used for multiple tasks."
      ]
    },
    {
      "cell_type": "code",
      "metadata": {
        "id": "WUaR0A5HxsQu",
        "colab": {
          "base_uri": "https://localhost:8080/"
        },
        "outputId": "f88a9f00-1409-491d-dafd-ecbd915d8447"
      },
      "source": [
        "import numpy as np\n",
        "\n",
        "metric = dc.metrics.Metric(dc.metrics.pearson_r2_score)\n",
        "print('training set score:', model.evaluate(train_dataset, [metric], transformers))\n",
        "print('test set score:', model.evaluate(test_dataset, [metric], transformers))"
      ],
      "execution_count": 12,
      "outputs": [
        {
          "output_type": "stream",
          "text": [
            "training set score: {'pearson_r2_score': 0.9636048341814806}\n",
            "test set score: {'pearson_r2_score': 0.6673799269906617}\n"
          ],
          "name": "stdout"
        }
      ]
    },
    {
      "cell_type": "markdown",
      "metadata": {
        "id": "xesI98ChyhdV"
      },
      "source": [
        "The training set score is much higher than test set score. This indicates overfitting - and is why metrics on the validation set need to be measured in otder to tune parameters and detect overfitting."
      ]
    }
  ]
}