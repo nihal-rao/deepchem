{
  "nbformat": 4,
  "nbformat_minor": 0,
  "metadata": {
    "accelerator": "GPU",
    "colab": {
      "name": "Copy of Copy of 04_Introduction_to_Graph_Convolutions.ipynb",
      "provenance": [],
      "collapsed_sections": [],
      "include_colab_link": true
    },
    "kernelspec": {
      "display_name": "Python 3",
      "language": "python",
      "name": "python3"
    },
    "language_info": {
      "codemirror_mode": {
        "name": "ipython",
        "version": 3
      },
      "file_extension": ".py",
      "mimetype": "text/x-python",
      "name": "python",
      "nbconvert_exporter": "python",
      "pygments_lexer": "ipython3",
      "version": "3.7.6"
    }
  },
  "cells": [
    {
      "cell_type": "markdown",
      "metadata": {
        "id": "view-in-github",
        "colab_type": "text"
      },
      "source": [
        "<a href=\"https://colab.research.google.com/github/nihal-rao/deepchem/blob/master/baselines/Lipo_GraphConv.ipynb\" target=\"_parent\"><img src=\"https://colab.research.google.com/assets/colab-badge.svg\" alt=\"Open In Colab\"/></a>"
      ]
    },
    {
      "cell_type": "code",
      "metadata": {
        "colab": {
          "background_save": true,
          "base_uri": "https://localhost:8080/"
        },
        "id": "EoCLxSnBcj1N",
        "outputId": "d20c0b59-a8f0-4541-9e7c-9b3f1bfe5334"
      },
      "source": [
        "!curl -Lo conda_installer.py https://raw.githubusercontent.com/deepchem/deepchem/master/scripts/colab_install.py\n",
        "import conda_installer\n",
        "conda_installer.install()\n",
        "!/root/miniconda/bin/conda info -e"
      ],
      "execution_count": null,
      "outputs": [
        {
          "output_type": "stream",
          "text": [
            "  % Total    % Received % Xferd  Average Speed   Time    Time     Time  Current\n",
            "                                 Dload  Upload   Total   Spent    Left  Speed\n",
            "100  3501  100  3501    0     0  14834      0 --:--:-- --:--:-- --:--:-- 14772\n"
          ],
          "name": "stdout"
        },
        {
          "output_type": "stream",
          "text": [
            "add /root/miniconda/lib/python3.7/site-packages to PYTHONPATH\n",
            "python version: 3.7.10\n",
            "fetching installer from https://repo.continuum.io/miniconda/Miniconda3-latest-Linux-x86_64.sh\n",
            "done\n",
            "installing miniconda to /root/miniconda\n",
            "done\n",
            "installing rdkit, openmm, pdbfixer\n",
            "added omnia to channels\n",
            "added conda-forge to channels\n",
            "done\n",
            "conda packages installation finished!\n"
          ],
          "name": "stderr"
        },
        {
          "output_type": "stream",
          "text": [
            "# conda environments:\n",
            "#\n",
            "base                  *  /root/miniconda\n",
            "\n"
          ],
          "name": "stdout"
        }
      ]
    },
    {
      "cell_type": "code",
      "metadata": {
        "colab": {
          "base_uri": "https://localhost:8080/"
        },
        "id": "3Jv2cmnW91CF",
        "outputId": "cc120037-6626-4112-8847-821892a0d90a"
      },
      "source": [
        "!pip install --pre deepchem"
      ],
      "execution_count": null,
      "outputs": [
        {
          "output_type": "stream",
          "text": [
            "Collecting deepchem\n",
            "\u001b[?25l  Downloading https://files.pythonhosted.org/packages/d3/e3/4e96fcaa9cbd282f95b4db9b1d89cde50692c80e482e81f52f2c70d77a6a/deepchem-2.5.0.dev20210309230035-py3-none-any.whl (552kB)\n",
            "\r\u001b[K     |▋                               | 10kB 22.9MB/s eta 0:00:01\r\u001b[K     |█▏                              | 20kB 29.6MB/s eta 0:00:01\r\u001b[K     |█▉                              | 30kB 25.1MB/s eta 0:00:01\r\u001b[K     |██▍                             | 40kB 28.3MB/s eta 0:00:01\r\u001b[K     |███                             | 51kB 26.4MB/s eta 0:00:01\r\u001b[K     |███▋                            | 61kB 29.1MB/s eta 0:00:01\r\u001b[K     |████▏                           | 71kB 24.4MB/s eta 0:00:01\r\u001b[K     |████▊                           | 81kB 25.1MB/s eta 0:00:01\r\u001b[K     |█████▍                          | 92kB 26.5MB/s eta 0:00:01\r\u001b[K     |██████                          | 102kB 28.2MB/s eta 0:00:01\r\u001b[K     |██████▌                         | 112kB 28.2MB/s eta 0:00:01\r\u001b[K     |███████▏                        | 122kB 28.2MB/s eta 0:00:01\r\u001b[K     |███████▊                        | 133kB 28.2MB/s eta 0:00:01\r\u001b[K     |████████▎                       | 143kB 28.2MB/s eta 0:00:01\r\u001b[K     |█████████                       | 153kB 28.2MB/s eta 0:00:01\r\u001b[K     |█████████▌                      | 163kB 28.2MB/s eta 0:00:01\r\u001b[K     |██████████                      | 174kB 28.2MB/s eta 0:00:01\r\u001b[K     |██████████▊                     | 184kB 28.2MB/s eta 0:00:01\r\u001b[K     |███████████▎                    | 194kB 28.2MB/s eta 0:00:01\r\u001b[K     |███████████▉                    | 204kB 28.2MB/s eta 0:00:01\r\u001b[K     |████████████▌                   | 215kB 28.2MB/s eta 0:00:01\r\u001b[K     |█████████████                   | 225kB 28.2MB/s eta 0:00:01\r\u001b[K     |█████████████▋                  | 235kB 28.2MB/s eta 0:00:01\r\u001b[K     |██████████████▎                 | 245kB 28.2MB/s eta 0:00:01\r\u001b[K     |██████████████▉                 | 256kB 28.2MB/s eta 0:00:01\r\u001b[K     |███████████████▍                | 266kB 28.2MB/s eta 0:00:01\r\u001b[K     |████████████████                | 276kB 28.2MB/s eta 0:00:01\r\u001b[K     |████████████████▋               | 286kB 28.2MB/s eta 0:00:01\r\u001b[K     |█████████████████▏              | 296kB 28.2MB/s eta 0:00:01\r\u001b[K     |█████████████████▉              | 307kB 28.2MB/s eta 0:00:01\r\u001b[K     |██████████████████▍             | 317kB 28.2MB/s eta 0:00:01\r\u001b[K     |███████████████████             | 327kB 28.2MB/s eta 0:00:01\r\u001b[K     |███████████████████▋            | 337kB 28.2MB/s eta 0:00:01\r\u001b[K     |████████████████████▏           | 348kB 28.2MB/s eta 0:00:01\r\u001b[K     |████████████████████▊           | 358kB 28.2MB/s eta 0:00:01\r\u001b[K     |█████████████████████▍          | 368kB 28.2MB/s eta 0:00:01\r\u001b[K     |██████████████████████          | 378kB 28.2MB/s eta 0:00:01\r\u001b[K     |██████████████████████▌         | 389kB 28.2MB/s eta 0:00:01\r\u001b[K     |███████████████████████▏        | 399kB 28.2MB/s eta 0:00:01\r\u001b[K     |███████████████████████▊        | 409kB 28.2MB/s eta 0:00:01\r\u001b[K     |████████████████████████▎       | 419kB 28.2MB/s eta 0:00:01\r\u001b[K     |█████████████████████████       | 430kB 28.2MB/s eta 0:00:01\r\u001b[K     |█████████████████████████▌      | 440kB 28.2MB/s eta 0:00:01\r\u001b[K     |██████████████████████████      | 450kB 28.2MB/s eta 0:00:01\r\u001b[K     |██████████████████████████▊     | 460kB 28.2MB/s eta 0:00:01\r\u001b[K     |███████████████████████████▎    | 471kB 28.2MB/s eta 0:00:01\r\u001b[K     |███████████████████████████▉    | 481kB 28.2MB/s eta 0:00:01\r\u001b[K     |████████████████████████████▌   | 491kB 28.2MB/s eta 0:00:01\r\u001b[K     |█████████████████████████████   | 501kB 28.2MB/s eta 0:00:01\r\u001b[K     |█████████████████████████████▋  | 512kB 28.2MB/s eta 0:00:01\r\u001b[K     |██████████████████████████████▎ | 522kB 28.2MB/s eta 0:00:01\r\u001b[K     |██████████████████████████████▉ | 532kB 28.2MB/s eta 0:00:01\r\u001b[K     |███████████████████████████████▍| 542kB 28.2MB/s eta 0:00:01\r\u001b[K     |████████████████████████████████| 552kB 28.2MB/s \n",
            "\u001b[?25hRequirement already satisfied: scikit-learn in /usr/local/lib/python3.7/dist-packages (from deepchem) (0.22.2.post1)\n",
            "Requirement already satisfied: joblib in /usr/local/lib/python3.7/dist-packages (from deepchem) (1.0.1)\n",
            "Requirement already satisfied: numpy in /usr/local/lib/python3.7/dist-packages (from deepchem) (1.19.5)\n",
            "Requirement already satisfied: pandas in /usr/local/lib/python3.7/dist-packages (from deepchem) (1.1.5)\n",
            "Requirement already satisfied: scipy in /usr/local/lib/python3.7/dist-packages (from deepchem) (1.4.1)\n",
            "Requirement already satisfied: python-dateutil>=2.7.3 in /usr/local/lib/python3.7/dist-packages (from pandas->deepchem) (2.8.1)\n",
            "Requirement already satisfied: pytz>=2017.2 in /usr/local/lib/python3.7/dist-packages (from pandas->deepchem) (2018.9)\n",
            "Requirement already satisfied: six>=1.5 in /usr/local/lib/python3.7/dist-packages (from python-dateutil>=2.7.3->pandas->deepchem) (1.15.0)\n",
            "Installing collected packages: deepchem\n",
            "Successfully installed deepchem-2.5.0.dev20210309230035\n"
          ],
          "name": "stdout"
        }
      ]
    },
    {
      "cell_type": "markdown",
      "metadata": {
        "id": "BX2erW0ncj1W"
      },
      "source": [
        "\n",
        "# Training a GraphConvModel\n",
        "\n",
        "On Lipo dataset"
      ]
    },
    {
      "cell_type": "code",
      "metadata": {
        "colab": {
          "base_uri": "https://localhost:8080/"
        },
        "id": "JMi2V8Jncj1W",
        "outputId": "0c9a25ac-bf5a-4608-dc52-1df1f2a36454"
      },
      "source": [
        "import deepchem as dc\n",
        "\n",
        "tasks, datasets, transformers = dc.molnet.load_lipo(featurizer='GraphConv')\n",
        "train_dataset, valid_dataset, test_dataset = datasets\n",
        "print(tasks)"
      ],
      "execution_count": null,
      "outputs": [
        {
          "output_type": "stream",
          "text": [
            "['exp']\n"
          ],
          "name": "stdout"
        }
      ]
    },
    {
      "cell_type": "markdown",
      "metadata": {
        "id": "QfMW0Y4Kcj1Z"
      },
      "source": [
        "## Model Training"
      ]
    },
    {
      "cell_type": "code",
      "metadata": {
        "colab": {
          "base_uri": "https://localhost:8080/"
        },
        "id": "Y9n3jTNHcj1a",
        "outputId": "0b111770-0d97-495c-cb1c-3526519162fd"
      },
      "source": [
        "import warnings\n",
        "warnings.filterwarnings('ignore')\n",
        "n_tasks = len(tasks)\n",
        "model = dc.models.GraphConvModel(n_tasks, mode='regression')\n",
        "model.fit(train_dataset, nb_epoch=50)"
      ],
      "execution_count": null,
      "outputs": [
        {
          "output_type": "execute_result",
          "data": {
            "text/plain": [
              "1"
            ]
          },
          "metadata": {
            "tags": []
          },
          "execution_count": 10
        }
      ]
    },
    {
      "cell_type": "markdown",
      "metadata": {
        "id": "kDDroutEcj1g"
      },
      "source": [
        "`GraphConvModel` class implements the graph convolutional model from the following paper . These graph convolutions start with a per-atom set of descriptors for each atom in a molecule, then combine and recombine these descriptors over convolutional layers."
      ]
    },
    {
      "cell_type": "code",
      "metadata": {
        "colab": {
          "base_uri": "https://localhost:8080/"
        },
        "id": "MeX-9RNWcj1h",
        "outputId": "23c96062-0756-47d6-936d-57f8fbb5665b"
      },
      "source": [
        "metric = dc.metrics.Metric(dc.metrics.pearson_r2_score)\n",
        "print('Training set score:', model.evaluate(train_dataset, [metric], transformers))\n",
        "print('Test set score:', model.evaluate(test_dataset, [metric], transformers))"
      ],
      "execution_count": null,
      "outputs": [
        {
          "output_type": "stream",
          "text": [
            "Training set score: {'pearson_r2_score': 0.9427009359280701}\n",
            "Test set score: {'pearson_r2_score': 0.4597287714770163}\n"
          ],
          "name": "stdout"
        }
      ]
    }
  ]
}